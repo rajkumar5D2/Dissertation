{
  "nbformat": 4,
  "nbformat_minor": 0,
  "metadata": {
    "accelerator": "GPU",
    "colab": {
      "name": "amazonsentiment.ipynb",
      "provenance": [],
      "collapsed_sections": []
    },
    "kernelspec": {
      "display_name": "Python 3",
      "name": "python3"
    },
    "language_info": {
      "name": "python"
    }
  },
  "cells": [
    {
      "cell_type": "markdown",
      "metadata": {
        "id": "a4YQVPrzE3Yx"
      },
      "source": [
        "# Checking the memory status of the machine\n"
      ]
    },
    {
      "cell_type": "code",
      "metadata": {
        "colab": {
          "base_uri": "https://localhost:8080/",
          "height": 36
        },
        "id": "CeMs3xUowHm0",
        "outputId": "6c2278f8-0ef5-42e6-8e5d-1d934b2ad459"
      },
      "source": [
        "import tensorflow as tensf\n",
        "tensf.test.gpu_device_name()"
      ],
      "execution_count": 1,
      "outputs": [
        {
          "output_type": "execute_result",
          "data": {
            "application/vnd.google.colaboratory.intrinsic+json": {
              "type": "string"
            },
            "text/plain": [
              "'/device:GPU:0'"
            ]
          },
          "metadata": {},
          "execution_count": 1
        }
      ]
    },
    {
      "cell_type": "code",
      "metadata": {
        "colab": {
          "base_uri": "https://localhost:8080/"
        },
        "id": "E-wRx_H5zanC",
        "outputId": "90af9470-ccfb-419e-8c4a-4ba783d00c8a"
      },
      "source": [
        "from tensorflow.python.client import device_lib\n",
        "device_lib.list_local_devices()"
      ],
      "execution_count": 2,
      "outputs": [
        {
          "output_type": "execute_result",
          "data": {
            "text/plain": [
              "[name: \"/device:CPU:0\"\n",
              " device_type: \"CPU\"\n",
              " memory_limit: 268435456\n",
              " locality {\n",
              " }\n",
              " incarnation: 14950355404972775668, name: \"/device:GPU:0\"\n",
              " device_type: \"GPU\"\n",
              " memory_limit: 11345264640\n",
              " locality {\n",
              "   bus_id: 1\n",
              "   links {\n",
              "   }\n",
              " }\n",
              " incarnation: 15586656398438571868\n",
              " physical_device_desc: \"device: 0, name: Tesla K80, pci bus id: 0000:00:04.0, compute capability: 3.7\"]"
            ]
          },
          "metadata": {},
          "execution_count": 2
        }
      ]
    },
    {
      "cell_type": "code",
      "metadata": {
        "colab": {
          "base_uri": "https://localhost:8080/"
        },
        "id": "ZmzAwHZ_zd8N",
        "outputId": "7f5068c1-c83b-4b3a-dae5-6d290894d2c0"
      },
      "source": [
        "#memory info of the colab system\n",
        "!cat /proc/meminfo"
      ],
      "execution_count": 3,
      "outputs": [
        {
          "output_type": "stream",
          "name": "stdout",
          "text": [
            "MemTotal:       13302924 kB\n",
            "MemFree:         9471540 kB\n",
            "MemAvailable:   12122372 kB\n",
            "Buffers:          126864 kB\n",
            "Cached:          2570636 kB\n",
            "SwapCached:            0 kB\n",
            "Active:          1304280 kB\n",
            "Inactive:        2161120 kB\n",
            "Active(anon):     642164 kB\n",
            "Inactive(anon):     2500 kB\n",
            "Active(file):     662116 kB\n",
            "Inactive(file):  2158620 kB\n",
            "Unevictable:           0 kB\n",
            "Mlocked:               0 kB\n",
            "SwapTotal:             0 kB\n",
            "SwapFree:              0 kB\n",
            "Dirty:              5940 kB\n",
            "Writeback:             0 kB\n",
            "AnonPages:        767920 kB\n",
            "Mapped:           562636 kB\n",
            "Shmem:              3224 kB\n",
            "KReclaimable:     143140 kB\n",
            "Slab:             197664 kB\n",
            "SReclaimable:     143140 kB\n",
            "SUnreclaim:        54524 kB\n",
            "KernelStack:        4896 kB\n",
            "PageTables:         8312 kB\n",
            "NFS_Unstable:          0 kB\n",
            "Bounce:                0 kB\n",
            "WritebackTmp:          0 kB\n",
            "CommitLimit:     6651460 kB\n",
            "Committed_AS:    3476144 kB\n",
            "VmallocTotal:   34359738367 kB\n",
            "VmallocUsed:       46576 kB\n",
            "VmallocChunk:          0 kB\n",
            "Percpu:             1424 kB\n",
            "AnonHugePages:         0 kB\n",
            "ShmemHugePages:        0 kB\n",
            "ShmemPmdMapped:        0 kB\n",
            "FileHugePages:         0 kB\n",
            "FilePmdMapped:         0 kB\n",
            "CmaTotal:              0 kB\n",
            "CmaFree:               0 kB\n",
            "HugePages_Total:       0\n",
            "HugePages_Free:        0\n",
            "HugePages_Rsvd:        0\n",
            "HugePages_Surp:        0\n",
            "Hugepagesize:       2048 kB\n",
            "Hugetlb:               0 kB\n",
            "DirectMap4k:      183104 kB\n",
            "DirectMap2M:     5056512 kB\n",
            "DirectMap1G:    10485760 kB\n"
          ]
        }
      ]
    },
    {
      "cell_type": "markdown",
      "metadata": {
        "id": "mnIadYQlHA84"
      },
      "source": [
        "# Importing Libraries and Dataset"
      ]
    },
    {
      "cell_type": "code",
      "metadata": {
        "id": "4fUH32jDzhbH"
      },
      "source": [
        "! pip install -q kaggle"
      ],
      "execution_count": 4,
      "outputs": []
    },
    {
      "cell_type": "code",
      "metadata": {
        "colab": {
          "resources": {
            "http://localhost:8080/nbextensions/google.colab/files.js": {
              "data": "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",
              "ok": true,
              "headers": [
                [
                  "content-type",
                  "application/javascript"
                ]
              ],
              "status": 200,
              "status_text": "OK"
            }
          },
          "base_uri": "https://localhost:8080/",
          "height": 94
        },
        "id": "ds27sQwwzjGj",
        "outputId": "28d16ae3-9790-4e5b-8c3c-3ffa1864e4b1"
      },
      "source": [
        "from google.colab import files as FILE\n",
        "FILE.upload()"
      ],
      "execution_count": 5,
      "outputs": [
        {
          "output_type": "display_data",
          "data": {
            "text/html": [
              "\n",
              "     <input type=\"file\" id=\"files-b81f1f15-dc56-45c9-9ed8-c7e159f8b070\" name=\"files[]\" multiple disabled\n",
              "        style=\"border:none\" />\n",
              "     <output id=\"result-b81f1f15-dc56-45c9-9ed8-c7e159f8b070\">\n",
              "      Upload widget is only available when the cell has been executed in the\n",
              "      current browser session. Please rerun this cell to enable.\n",
              "      </output>\n",
              "      <script src=\"/nbextensions/google.colab/files.js\"></script> "
            ],
            "text/plain": [
              "<IPython.core.display.HTML object>"
            ]
          },
          "metadata": {}
        },
        {
          "output_type": "stream",
          "name": "stdout",
          "text": [
            "Saving kaggle.json to kaggle.json\n"
          ]
        },
        {
          "output_type": "execute_result",
          "data": {
            "text/plain": [
              "{'kaggle.json': b'{\"username\":\"rajkumarmikkili\",\"key\":\"81d6e4931513f439b7b6dbe529b6a96a\"}'}"
            ]
          },
          "metadata": {},
          "execution_count": 5
        }
      ]
    },
    {
      "cell_type": "code",
      "metadata": {
        "id": "xZ91pPY6znxI"
      },
      "source": [
        " !mkdir ~/.kaggle "
      ],
      "execution_count": 6,
      "outputs": []
    },
    {
      "cell_type": "code",
      "metadata": {
        "id": "fKDER6KqKO0E"
      },
      "source": [
        "!cp kaggle.json ~/.kaggle/"
      ],
      "execution_count": 7,
      "outputs": []
    },
    {
      "cell_type": "code",
      "metadata": {
        "id": "Wo4nYJa_KTL1"
      },
      "source": [
        " !chmod 600 ~/.kaggle/kaggle.json"
      ],
      "execution_count": 8,
      "outputs": []
    },
    {
      "cell_type": "code",
      "metadata": {
        "colab": {
          "base_uri": "https://localhost:8080/"
        },
        "id": "PzgHIs4bKhbn",
        "outputId": "02381716-16f2-4ad6-e01f-bb212d432914"
      },
      "source": [
        "! kaggle datasets download -d bittlingmayer/amazonreviews"
      ],
      "execution_count": 9,
      "outputs": [
        {
          "output_type": "stream",
          "name": "stdout",
          "text": [
            "Downloading amazonreviews.zip to /content\n",
            " 98% 481M/493M [00:18<00:00, 15.1MB/s]\n",
            "100% 493M/493M [00:19<00:00, 27.1MB/s]\n"
          ]
        }
      ]
    },
    {
      "cell_type": "code",
      "metadata": {
        "colab": {
          "base_uri": "https://localhost:8080/"
        },
        "id": "ojYex5ccKrb5",
        "outputId": "3853a25e-e367-4566-aef6-06c8549edd35"
      },
      "source": [
        "!unzip amazonreviews.zip"
      ],
      "execution_count": 10,
      "outputs": [
        {
          "output_type": "stream",
          "name": "stdout",
          "text": [
            "Archive:  amazonreviews.zip\n",
            "  inflating: test.ft.txt.bz2         \n",
            "  inflating: train.ft.txt.bz2        \n"
          ]
        }
      ]
    },
    {
      "cell_type": "code",
      "metadata": {
        "id": "P8SXav_pLi2D"
      },
      "source": [
        "import numpy as NUMP\n",
        "import bz2 as BZ"
      ],
      "execution_count": 11,
      "outputs": []
    },
    {
      "cell_type": "markdown",
      "metadata": {
        "id": "VYwacjjGLzC9"
      },
      "source": [
        "# preparing the dataset to use "
      ]
    },
    {
      "cell_type": "code",
      "metadata": {
        "id": "EHrgfb620xZJ"
      },
      "source": [
        "import pandas as PAND\n",
        "def text_labeling(x):\n",
        "  text_label=[]\n",
        "  text=[]\n",
        "  for line in BZ.BZ2File(x):\n",
        "    text_decoder = line.decode(\"utf-8\")\n",
        "    text_label.append(int(text_decoder[9]) - 1)\n",
        "    text.append(text_decoder[10:].strip())\n",
        "  return NUMP.array(text_label),text"
      ],
      "execution_count": 12,
      "outputs": []
    },
    {
      "cell_type": "code",
      "metadata": {
        "id": "LHqtlr_7Mw7Z"
      },
      "source": [
        "training_set_caption , training_set_text = text_labeling('train.ft.txt.bz2')\n",
        "testing_set_caption, testing_set_text = text_labeling('test.ft.txt.bz2')"
      ],
      "execution_count": 13,
      "outputs": []
    },
    {
      "cell_type": "markdown",
      "metadata": {
        "id": "zy1bu0fgOjGi"
      },
      "source": [
        "## Shuffling the dataset for better results"
      ]
    },
    {
      "cell_type": "code",
      "metadata": {
        "id": "coGSxJrdN7re"
      },
      "source": [
        "from sklearn.utils import shuffle\n",
        "training_set_text, training_set_caption = shuffle(training_set_text, training_set_caption)\n",
        "testing_set_text, testing_set_caption = shuffle(testing_set_text, testing_set_caption)"
      ],
      "execution_count": 14,
      "outputs": []
    },
    {
      "cell_type": "code",
      "metadata": {
        "colab": {
          "base_uri": "https://localhost:8080/",
          "height": 55
        },
        "id": "BN18L90vPlq7",
        "outputId": "8f6b3931-f6a0-48d3-877f-5bc674517876"
      },
      "source": [
        "training_set_text[0]"
      ],
      "execution_count": 15,
      "outputs": [
        {
          "output_type": "execute_result",
          "data": {
            "application/vnd.google.colaboratory.intrinsic+json": {
              "type": "string"
            },
            "text/plain": [
              "\"The Science Behind Mind-Body Medicine: Let's get it together! Science, medicine, thoughts, feelings, here, and seemingly not here....everything is connected! Just because our minds can only imagine so much, doesn't mean that there isn't more.\""
            ]
          },
          "metadata": {},
          "execution_count": 15
        }
      ]
    },
    {
      "cell_type": "code",
      "metadata": {
        "colab": {
          "base_uri": "https://localhost:8080/"
        },
        "id": "SGAtMcItPwlO",
        "outputId": "35fdb068-6b17-46b9-a8dc-6b421511c6e9"
      },
      "source": [
        "training_set_caption[0]"
      ],
      "execution_count": 16,
      "outputs": [
        {
          "output_type": "execute_result",
          "data": {
            "text/plain": [
              "1"
            ]
          },
          "metadata": {},
          "execution_count": 16
        }
      ]
    },
    {
      "cell_type": "code",
      "metadata": {
        "colab": {
          "base_uri": "https://localhost:8080/"
        },
        "id": "86ZeXt5cP8CG",
        "outputId": "8d76fc81-a2ee-4344-b7ae-ea184a73acba"
      },
      "source": [
        "len(training_set_text)"
      ],
      "execution_count": 17,
      "outputs": [
        {
          "output_type": "execute_result",
          "data": {
            "text/plain": [
              "3600000"
            ]
          },
          "metadata": {},
          "execution_count": 17
        }
      ]
    },
    {
      "cell_type": "code",
      "metadata": {
        "colab": {
          "base_uri": "https://localhost:8080/"
        },
        "id": "D869_2rP1BE4",
        "outputId": "feb951d0-bb62-47ec-dfd8-575a60e3f66a"
      },
      "source": [
        "len(testing_set_text)"
      ],
      "execution_count": 18,
      "outputs": [
        {
          "output_type": "execute_result",
          "data": {
            "text/plain": [
              "400000"
            ]
          },
          "metadata": {},
          "execution_count": 18
        }
      ]
    },
    {
      "cell_type": "code",
      "metadata": {
        "id": "h1mUEg8T1lZo"
      },
      "source": [
        "testing_set_text = testing_set_text[0:1000]\n",
        "testing_set_caption = testing_set_caption[0:1000]"
      ],
      "execution_count": 19,
      "outputs": []
    },
    {
      "cell_type": "code",
      "metadata": {
        "id": "nziRIkkL1xHM"
      },
      "source": [
        "training_set_text = training_set_text[0:7500]\n",
        "training_set_caption = training_set_caption[0:7500]"
      ],
      "execution_count": 20,
      "outputs": []
    },
    {
      "cell_type": "code",
      "metadata": {
        "colab": {
          "base_uri": "https://localhost:8080/"
        },
        "id": "kThnOKwi2RHw",
        "outputId": "95b4cb74-8928-42ea-ee50-0f8bdd912636"
      },
      "source": [
        "import re as RE\n",
        "import nltk as NL\n",
        "NL.download('stopwords')\n",
        "from nltk.corpus import stopwords as SW\n",
        "from nltk.stem.porter import PorterStemmer as PS\n",
        "training_dict = []\n",
        "for text in range(len(training_set_text)):\n",
        "    #Clearing quotation marks\n",
        "    processed_text = RE.sub('\".*?\"', '', training_set_text[text]) \n",
        "    #Processing by removing other than letters\n",
        "    processed_text = RE.sub('[^a-zA-Z]', ' ', processed_text) \n",
        "    #using only lowercase letters\n",
        "    processed_text = processed_text.lower() \n",
        "    #breaking all sentences into words\n",
        "    processed_text = processed_text.split() \n",
        "    #stemming\n",
        "    ps = PS() \n",
        "    all_stopwords = SW.words('english')\n",
        "    all_stopwords.remove('not') \n",
        "    processed_text = [ps.stem(word) for word in processed_text if not word in set(all_stopwords)]\n",
        "    #Again joining all the words into a sentence\n",
        "    processed_text = ' '.join(processed_text) \n",
        "    training_dict.append(processed_text)"
      ],
      "execution_count": 21,
      "outputs": [
        {
          "output_type": "stream",
          "name": "stdout",
          "text": [
            "[nltk_data] Downloading package stopwords to /root/nltk_data...\n",
            "[nltk_data]   Unzipping corpora/stopwords.zip.\n"
          ]
        }
      ]
    },
    {
      "cell_type": "markdown",
      "metadata": {
        "id": "YPU29sNrVRs5"
      },
      "source": [
        "## Using Bag of words model"
      ]
    },
    {
      "cell_type": "code",
      "metadata": {
        "id": "WRvscqFuSiWz"
      },
      "source": [
        "from sklearn.feature_extraction.text import CountVectorizer as count_vect\n",
        "features = 1500\n",
        "count_vect = count_vect(max_features = features)\n",
        "X = count_vect.fit_transform(training_dict).toarray()\n",
        "y = training_set_caption[0:7500]"
      ],
      "execution_count": 22,
      "outputs": []
    },
    {
      "cell_type": "markdown",
      "metadata": {
        "id": "_lgcHWxGVWu0"
      },
      "source": [
        "# Creating a validation set"
      ]
    },
    {
      "cell_type": "code",
      "metadata": {
        "id": "E09KR2VmVL_P"
      },
      "source": [
        "from sklearn.model_selection import train_test_split as TrainTestSplit\n",
        "testing_size = 0.25\n",
        "seed = 0\n",
        "X_training,X_validataion,y_training,y_validation = TrainTestSplit(X,y,test_size = testing_size,random_state = seed)"
      ],
      "execution_count": 23,
      "outputs": []
    },
    {
      "cell_type": "markdown",
      "metadata": {
        "id": "ehjkI_kPWN6d"
      },
      "source": [
        "# Using Different ML models for training"
      ]
    },
    {
      "cell_type": "markdown",
      "metadata": {
        "id": "kiGtu1EFW4E9"
      },
      "source": [
        "## Navie Bayes\n",
        "\n"
      ]
    },
    {
      "cell_type": "code",
      "metadata": {
        "colab": {
          "base_uri": "https://localhost:8080/"
        },
        "id": "KAbd70dKWbrs",
        "outputId": "3eca1bbc-5994-49ca-9a65-b55f36602a71"
      },
      "source": [
        "from sklearn.naive_bayes import GaussianNB as GNB\n",
        "GNB_Model = GNB()\n",
        "GNB_Model.fit(X_training,y_training)"
      ],
      "execution_count": 24,
      "outputs": [
        {
          "output_type": "execute_result",
          "data": {
            "text/plain": [
              "GaussianNB(priors=None, var_smoothing=1e-09)"
            ]
          },
          "metadata": {},
          "execution_count": 24
        }
      ]
    },
    {
      "cell_type": "code",
      "metadata": {
        "id": "WdO1E-7UY0Dn"
      },
      "source": [
        "GNB_Y_PREDICTED = GNB_Model.predict(X_validataion)"
      ],
      "execution_count": 25,
      "outputs": []
    },
    {
      "cell_type": "code",
      "metadata": {
        "id": "bvAhLuL4ZTSV"
      },
      "source": [
        "from sklearn.metrics import confusion_matrix as conf,accuracy_score as ACC\n",
        "Conf_Mat = conf(y_validation,GNB_Y_PREDICTED)\n"
      ],
      "execution_count": 26,
      "outputs": []
    },
    {
      "cell_type": "code",
      "metadata": {
        "colab": {
          "base_uri": "https://localhost:8080/",
          "height": 284
        },
        "id": "h51zzkQB7tsx",
        "outputId": "526dc3ba-a1d0-4e48-efe5-4fab11243d43"
      },
      "source": [
        "import matplotlib.pyplot as PLOT\n",
        "import seaborn as SEA\n",
        "toggle = True\n",
        "colors = 'Blues'\n",
        "SEA.heatmap(Conf_Mat/NUMP.sum(Conf_Mat), annot=toggle, \n",
        "            fmt='.2%', cmap=colors)"
      ],
      "execution_count": 27,
      "outputs": [
        {
          "output_type": "execute_result",
          "data": {
            "text/plain": [
              "<matplotlib.axes._subplots.AxesSubplot at 0x7f528eb5ae10>"
            ]
          },
          "metadata": {},
          "execution_count": 27
        },
        {
          "output_type": "display_data",
          "data": {
            "image/png": "[encoded data removed]",
            "text/plain": [
              "<Figure size 432x288 with 2 Axes>"
            ]
          },
          "metadata": {
            "needs_background": "light"
          }
        }
      ]
    },
    {
      "cell_type": "code",
      "metadata": {
        "colab": {
          "base_uri": "https://localhost:8080/"
        },
        "id": "mWTGjD1T96ZH",
        "outputId": "226997c6-92b9-4f91-bfaa-6eed2fbb5de1"
      },
      "source": [
        "GNB_ACC = ACC(y_validation, GNB_Y_PREDICTED)\n",
        "print(GNB_ACC)"
      ],
      "execution_count": 28,
      "outputs": [
        {
          "output_type": "stream",
          "name": "stdout",
          "text": [
            "0.7253333333333334\n"
          ]
        }
      ]
    },
    {
      "cell_type": "code",
      "metadata": {
        "colab": {
          "base_uri": "https://localhost:8080/"
        },
        "id": "GMtfLOL78deD",
        "outputId": "2c5489c8-1cb3-4deb-8b6e-495d78d59921"
      },
      "source": [
        "from sklearn.metrics import f1_score as F1\n",
        "GNB_F1 = F1(y_validation,GNB_Y_PREDICTED)\n",
        "print(GNB_F1)"
      ],
      "execution_count": 29,
      "outputs": [
        {
          "output_type": "stream",
          "name": "stdout",
          "text": [
            "0.7415955845459107\n"
          ]
        }
      ]
    },
    {
      "cell_type": "code",
      "metadata": {
        "colab": {
          "base_uri": "https://localhost:8080/"
        },
        "id": "q8i7o86V8xjQ",
        "outputId": "e2909916-2b52-49c3-e657-40339fb73dd1"
      },
      "source": [
        "from sklearn.metrics import precision_score as PScore\n",
        "GNB_PScore = PScore(y_validation,GNB_Y_PREDICTED)\n",
        "print(GNB_PScore)\n"
      ],
      "execution_count": 30,
      "outputs": [
        {
          "output_type": "stream",
          "name": "stdout",
          "text": [
            "0.7092130518234165\n"
          ]
        }
      ]
    },
    {
      "cell_type": "markdown",
      "metadata": {
        "id": "VBTKfF2v-g4H"
      },
      "source": [
        "## SVC\n"
      ]
    },
    {
      "cell_type": "code",
      "metadata": {
        "colab": {
          "base_uri": "https://localhost:8080/"
        },
        "id": "y0OQJstj-uBx",
        "outputId": "12dba8e7-d4e0-4c49-8094-f001c3b76d4f"
      },
      "source": [
        "from sklearn.svm import SVC as SUPPORT\n",
        "SVC_MODEL = SUPPORT(C=3,kernel = 'rbf', random_state = 0)\n",
        "SVC_MODEL.fit(X_training,y_training)"
      ],
      "execution_count": 31,
      "outputs": [
        {
          "output_type": "execute_result",
          "data": {
            "text/plain": [
              "SVC(C=3, break_ties=False, cache_size=200, class_weight=None, coef0=0.0,\n",
              "    decision_function_shape='ovr', degree=3, gamma='scale', kernel='rbf',\n",
              "    max_iter=-1, probability=False, random_state=0, shrinking=True, tol=0.001,\n",
              "    verbose=False)"
            ]
          },
          "metadata": {},
          "execution_count": 31
        }
      ]
    },
    {
      "cell_type": "code",
      "metadata": {
        "colab": {
          "base_uri": "https://localhost:8080/"
        },
        "id": "SrKtHfIk_FZx",
        "outputId": "98db4b8a-b085-4293-80e1-9cf4d27e2119"
      },
      "source": [
        "SVC_Y_PREDICTED = SVC_MODEL.predict(X_validataion)\n",
        "print(SVC_Y_PREDICTED)"
      ],
      "execution_count": 32,
      "outputs": [
        {
          "output_type": "stream",
          "name": "stdout",
          "text": [
            "[0 1 0 ... 0 1 1]\n"
          ]
        }
      ]
    },
    {
      "cell_type": "code",
      "metadata": {
        "id": "PfYlhdbc_TNM"
      },
      "source": [
        "Conf_Mat = conf(y_validation,SVC_Y_PREDICTED)"
      ],
      "execution_count": 33,
      "outputs": []
    },
    {
      "cell_type": "code",
      "metadata": {
        "colab": {
          "base_uri": "https://localhost:8080/",
          "height": 284
        },
        "id": "VIRnb67F_uQU",
        "outputId": "d5887084-5458-4b59-ccf2-6df9a4b29a0e"
      },
      "source": [
        "toggle = True\n",
        "colors = 'Blues'\n",
        "SEA.heatmap(Conf_Mat/NUMP.sum(Conf_Mat), annot=toggle, \n",
        "            fmt='.2%', cmap=colors)"
      ],
      "execution_count": 34,
      "outputs": [
        {
          "output_type": "execute_result",
          "data": {
            "text/plain": [
              "<matplotlib.axes._subplots.AxesSubplot at 0x7f525e7441d0>"
            ]
          },
          "metadata": {},
          "execution_count": 34
        },
        {
          "output_type": "display_data",
          "data": {
            "image/png": "[encoded data removed]",
            "text/plain": [
              "<Figure size 432x288 with 2 Axes>"
            ]
          },
          "metadata": {
            "needs_background": "light"
          }
        }
      ]
    },
    {
      "cell_type": "code",
      "metadata": {
        "colab": {
          "base_uri": "https://localhost:8080/"
        },
        "id": "p4-MaU8Y_xxn",
        "outputId": "5f8adddb-a846-4879-b0ea-8f0e2b95b8a2"
      },
      "source": [
        "SVC_ACC = ACC(y_validation, SVC_Y_PREDICTED)\n",
        "print(SVC_ACC)"
      ],
      "execution_count": 35,
      "outputs": [
        {
          "output_type": "stream",
          "name": "stdout",
          "text": [
            "0.8362666666666667\n"
          ]
        }
      ]
    },
    {
      "cell_type": "code",
      "metadata": {
        "colab": {
          "base_uri": "https://localhost:8080/"
        },
        "id": "MfgipFd2-uAe",
        "outputId": "fb6117a0-f763-4a28-d530-415637ffef0f"
      },
      "source": [
        "SVC_F1 = F1(y_validation,SVC_Y_PREDICTED)\n",
        "print(SVC_F1)"
      ],
      "execution_count": 36,
      "outputs": [
        {
          "output_type": "stream",
          "name": "stdout",
          "text": [
            "0.8367889420520999\n"
          ]
        }
      ]
    },
    {
      "cell_type": "code",
      "metadata": {
        "colab": {
          "base_uri": "https://localhost:8080/"
        },
        "id": "pRWqSXkd-wiq",
        "outputId": "ab7dd024-e305-443a-ab3f-92354ef43933"
      },
      "source": [
        "SVC_PScore = PScore(y_validation,SVC_Y_PREDICTED)\n",
        "print(SVC_PScore)"
      ],
      "execution_count": 37,
      "outputs": [
        {
          "output_type": "stream",
          "name": "stdout",
          "text": [
            "0.8462365591397849\n"
          ]
        }
      ]
    },
    {
      "cell_type": "markdown",
      "metadata": {
        "id": "OsI6kEXGDtl7"
      },
      "source": [
        "## Decision Tree Classifier"
      ]
    },
    {
      "cell_type": "code",
      "metadata": {
        "colab": {
          "base_uri": "https://localhost:8080/"
        },
        "id": "tLyLLTBJBbjW",
        "outputId": "802f11f0-9bf7-48da-ea2d-9719a9ade35b"
      },
      "source": [
        "from sklearn.tree import DecisionTreeClassifier as DECISION\n",
        "DTR_MODEL = DECISION(random_state = 0)\n",
        "DTR_MODEL.fit(X_training,y_training)"
      ],
      "execution_count": 38,
      "outputs": [
        {
          "output_type": "execute_result",
          "data": {
            "text/plain": [
              "DecisionTreeClassifier(ccp_alpha=0.0, class_weight=None, criterion='gini',\n",
              "                       max_depth=None, max_features=None, max_leaf_nodes=None,\n",
              "                       min_impurity_decrease=0.0, min_impurity_split=None,\n",
              "                       min_samples_leaf=1, min_samples_split=2,\n",
              "                       min_weight_fraction_leaf=0.0, presort='deprecated',\n",
              "                       random_state=0, splitter='best')"
            ]
          },
          "metadata": {},
          "execution_count": 38
        }
      ]
    },
    {
      "cell_type": "code",
      "metadata": {
        "colab": {
          "base_uri": "https://localhost:8080/"
        },
        "id": "ynjsNORfB2ut",
        "outputId": "ea1b5c07-5fbb-4aba-8d5c-14bc54827113"
      },
      "source": [
        "DTR_Y_PRED = DTR_MODEL.predict(X_validataion)\n",
        "print(DTR_Y_PRED)"
      ],
      "execution_count": 39,
      "outputs": [
        {
          "output_type": "stream",
          "name": "stdout",
          "text": [
            "[0 0 0 ... 1 1 0]\n"
          ]
        }
      ]
    },
    {
      "cell_type": "code",
      "metadata": {
        "id": "oPg5b6DYCDOv"
      },
      "source": [
        "Conf_Mat = conf(y_validation,DTR_Y_PRED)"
      ],
      "execution_count": 40,
      "outputs": []
    },
    {
      "cell_type": "code",
      "metadata": {
        "colab": {
          "base_uri": "https://localhost:8080/",
          "height": 284
        },
        "id": "zGurnV2ICKZw",
        "outputId": "87994872-63f6-4103-b30f-4f9b4506aa7b"
      },
      "source": [
        "toggle = True\n",
        "colors = 'Blues'\n",
        "SEA.heatmap(Conf_Mat/NUMP.sum(Conf_Mat), annot=toggle, \n",
        "            fmt='.2%', cmap=colors)"
      ],
      "execution_count": 41,
      "outputs": [
        {
          "output_type": "execute_result",
          "data": {
            "text/plain": [
              "<matplotlib.axes._subplots.AxesSubplot at 0x7f5274cbb810>"
            ]
          },
          "metadata": {},
          "execution_count": 41
        },
        {
          "output_type": "display_data",
          "data": {
            "image/png": "[encoded data removed]",
            "text/plain": [
              "<Figure size 432x288 with 2 Axes>"
            ]
          },
          "metadata": {
            "needs_background": "light"
          }
        }
      ]
    },
    {
      "cell_type": "code",
      "metadata": {
        "colab": {
          "base_uri": "https://localhost:8080/"
        },
        "id": "fi5epzcFCUDT",
        "outputId": "9bc95335-2b0b-4d1c-fce8-96a8348f511a"
      },
      "source": [
        "DTR_ACC = ACC(y_validation, DTR_Y_PRED)\n",
        "print(DTR_ACC)"
      ],
      "execution_count": 42,
      "outputs": [
        {
          "output_type": "stream",
          "name": "stdout",
          "text": [
            "0.7344\n"
          ]
        }
      ]
    },
    {
      "cell_type": "code",
      "metadata": {
        "colab": {
          "base_uri": "https://localhost:8080/"
        },
        "id": "fRcqVmnj-_FA",
        "outputId": "0759012d-e858-4024-c632-52e15a6bae35"
      },
      "source": [
        "DTR_F1 = F1(y_validation,DTR_Y_PRED)\n",
        "print(DTR_F1)"
      ],
      "execution_count": 43,
      "outputs": [
        {
          "output_type": "stream",
          "name": "stdout",
          "text": [
            "0.741701244813278\n"
          ]
        }
      ]
    },
    {
      "cell_type": "code",
      "metadata": {
        "colab": {
          "base_uri": "https://localhost:8080/"
        },
        "id": "qsNOgWD4-6Ta",
        "outputId": "e6e47e6d-1fd0-4067-aa84-4be160c22dc2"
      },
      "source": [
        "DTR_PScore = PScore(y_validation,DTR_Y_PRED)\n",
        "print(DTR_PScore)"
      ],
      "execution_count": 44,
      "outputs": [
        {
          "output_type": "stream",
          "name": "stdout",
          "text": [
            "0.7318321392016377\n"
          ]
        }
      ]
    },
    {
      "cell_type": "markdown",
      "metadata": {
        "id": "5WBPnSr7DnPE"
      },
      "source": [
        "## Random Forest Classifier "
      ]
    },
    {
      "cell_type": "code",
      "metadata": {
        "colab": {
          "base_uri": "https://localhost:8080/"
        },
        "id": "qRMsROVxD0cy",
        "outputId": "db5f3e55-0b2b-4bb7-fca1-c44791bba09c"
      },
      "source": [
        "from sklearn.ensemble import RandomForestClassifier as RANDOM\n",
        "RFC_MODEL = RANDOM(max_depth = 100,random_state = 0)\n",
        "RFC_MODEL.fit(X_training,y_training)"
      ],
      "execution_count": 45,
      "outputs": [
        {
          "output_type": "execute_result",
          "data": {
            "text/plain": [
              "RandomForestClassifier(bootstrap=True, ccp_alpha=0.0, class_weight=None,\n",
              "                       criterion='gini', max_depth=100, max_features='auto',\n",
              "                       max_leaf_nodes=None, max_samples=None,\n",
              "                       min_impurity_decrease=0.0, min_impurity_split=None,\n",
              "                       min_samples_leaf=1, min_samples_split=2,\n",
              "                       min_weight_fraction_leaf=0.0, n_estimators=100,\n",
              "                       n_jobs=None, oob_score=False, random_state=0, verbose=0,\n",
              "                       warm_start=False)"
            ]
          },
          "metadata": {},
          "execution_count": 45
        }
      ]
    },
    {
      "cell_type": "code",
      "metadata": {
        "colab": {
          "base_uri": "https://localhost:8080/"
        },
        "id": "HbI732gWErj1",
        "outputId": "44ac2273-bcdf-4158-adae-e90863a75296"
      },
      "source": [
        "RFC_Y_PRED = RFC_MODEL.predict(X_validataion)\n",
        "print(RFC_Y_PRED)"
      ],
      "execution_count": 46,
      "outputs": [
        {
          "output_type": "stream",
          "name": "stdout",
          "text": [
            "[0 1 0 ... 0 1 1]\n"
          ]
        }
      ]
    },
    {
      "cell_type": "code",
      "metadata": {
        "id": "ha07WwmXEys7"
      },
      "source": [
        "Conf_Mat = conf(y_validation,RFC_Y_PRED)"
      ],
      "execution_count": 47,
      "outputs": []
    },
    {
      "cell_type": "code",
      "metadata": {
        "colab": {
          "base_uri": "https://localhost:8080/",
          "height": 284
        },
        "id": "nQbo6aYTE-eH",
        "outputId": "7745a75c-8710-40ec-fc77-1b4210998efa"
      },
      "source": [
        "toggle= True\n",
        "colors= 'Blues'\n",
        "SEA.heatmap(Conf_Mat/NUMP.sum(Conf_Mat), annot=toggle, \n",
        "            fmt='.2%', cmap=colors)"
      ],
      "execution_count": 48,
      "outputs": [
        {
          "output_type": "execute_result",
          "data": {
            "text/plain": [
              "<matplotlib.axes._subplots.AxesSubplot at 0x7f526f1d5810>"
            ]
          },
          "metadata": {},
          "execution_count": 48
        },
        {
          "output_type": "display_data",
          "data": {
            "image/png": "[encoded data removed]",
            "text/plain": [
              "<Figure size 432x288 with 2 Axes>"
            ]
          },
          "metadata": {
            "needs_background": "light"
          }
        }
      ]
    },
    {
      "cell_type": "code",
      "metadata": {
        "colab": {
          "base_uri": "https://localhost:8080/"
        },
        "id": "nrszoFOzFBc9",
        "outputId": "9f51be81-064e-4f23-e4ae-a627042ccf37"
      },
      "source": [
        "RFC_ACC = ACC(y_validation, RFC_Y_PRED)\n",
        "print(RFC_ACC)"
      ],
      "execution_count": 49,
      "outputs": [
        {
          "output_type": "stream",
          "name": "stdout",
          "text": [
            "0.8304\n"
          ]
        }
      ]
    },
    {
      "cell_type": "code",
      "metadata": {
        "colab": {
          "base_uri": "https://localhost:8080/"
        },
        "id": "SGGSJtn1_J13",
        "outputId": "bf2dc6c4-e77b-45a0-f792-b476f734c011"
      },
      "source": [
        "RFC_F1 = F1(y_validation,RFC_Y_PRED)\n",
        "print(RFC_F1)"
      ],
      "execution_count": 50,
      "outputs": [
        {
          "output_type": "stream",
          "name": "stdout",
          "text": [
            "0.8342022940563087\n"
          ]
        }
      ]
    },
    {
      "cell_type": "code",
      "metadata": {
        "colab": {
          "base_uri": "https://localhost:8080/"
        },
        "id": "elU3Ohqw_OnA",
        "outputId": "6f8d663b-0361-49d5-de03-0a731d5dca42"
      },
      "source": [
        "RFC_PScore = PScore(y_validation,RFC_Y_PRED)\n",
        "print(RFC_PScore)"
      ],
      "execution_count": 51,
      "outputs": [
        {
          "output_type": "stream",
          "name": "stdout",
          "text": [
            "0.827300930713547\n"
          ]
        }
      ]
    },
    {
      "cell_type": "markdown",
      "metadata": {
        "id": "78wE1DFNGVyy"
      },
      "source": [
        "### Catboost"
      ]
    },
    {
      "cell_type": "code",
      "metadata": {
        "colab": {
          "base_uri": "https://localhost:8080/"
        },
        "id": "R1BsiB436lvz",
        "outputId": "13e6fc51-9bc0-43a0-97ca-5507dd2456d0"
      },
      "source": [
        "!pip install catboost"
      ],
      "execution_count": 52,
      "outputs": [
        {
          "output_type": "stream",
          "name": "stdout",
          "text": [
            "Collecting catboost\n",
            "  Downloading catboost-0.26.1-cp37-none-manylinux1_x86_64.whl (67.4 MB)\n",
            "\u001b[K     |████████████████████████████████| 67.4 MB 27 kB/s \n",
            "\u001b[?25hRequirement already satisfied: six in /usr/local/lib/python3.7/dist-packages (from catboost) (1.15.0)\n",
            "Requirement already satisfied: pandas>=0.24.0 in /usr/local/lib/python3.7/dist-packages (from catboost) (1.1.5)\n",
            "Requirement already satisfied: numpy>=1.16.0 in /usr/local/lib/python3.7/dist-packages (from catboost) (1.19.5)\n",
            "Requirement already satisfied: matplotlib in /usr/local/lib/python3.7/dist-packages (from catboost) (3.2.2)\n",
            "Requirement already satisfied: graphviz in /usr/local/lib/python3.7/dist-packages (from catboost) (0.10.1)\n",
            "Requirement already satisfied: plotly in /usr/local/lib/python3.7/dist-packages (from catboost) (4.4.1)\n",
            "Requirement already satisfied: scipy in /usr/local/lib/python3.7/dist-packages (from catboost) (1.4.1)\n",
            "Requirement already satisfied: pytz>=2017.2 in /usr/local/lib/python3.7/dist-packages (from pandas>=0.24.0->catboost) (2018.9)\n",
            "Requirement already satisfied: python-dateutil>=2.7.3 in /usr/local/lib/python3.7/dist-packages (from pandas>=0.24.0->catboost) (2.8.2)\n",
            "Requirement already satisfied: pyparsing!=2.0.4,!=2.1.2,!=2.1.6,>=2.0.1 in /usr/local/lib/python3.7/dist-packages (from matplotlib->catboost) (2.4.7)\n",
            "Requirement already satisfied: kiwisolver>=1.0.1 in /usr/local/lib/python3.7/dist-packages (from matplotlib->catboost) (1.3.1)\n",
            "Requirement already satisfied: cycler>=0.10 in /usr/local/lib/python3.7/dist-packages (from matplotlib->catboost) (0.10.0)\n",
            "Requirement already satisfied: retrying>=1.3.3 in /usr/local/lib/python3.7/dist-packages (from plotly->catboost) (1.3.3)\n",
            "Installing collected packages: catboost\n",
            "Successfully installed catboost-0.26.1\n"
          ]
        }
      ]
    },
    {
      "cell_type": "code",
      "metadata": {
        "colab": {
          "base_uri": "https://localhost:8080/"
        },
        "id": "KZ62EGgU5E3V",
        "outputId": "019f874c-4cd6-49ba-f03d-da6cfc3e812d"
      },
      "source": [
        "from catboost import CatBoostClassifier as CAT\n",
        "CAT_MODEL = CAT(iterations=1000,\n",
        "                           learning_rate=1,\n",
        "                           depth=10)\n",
        "CAT_MODEL.fit(X_training,y_training)\n"
      ],
      "execution_count": 53,
      "outputs": [
        {
          "output_type": "stream",
          "name": "stdout",
          "text": [
            "0:\tlearn: 0.5604346\ttotal: 148ms\tremaining: 2m 27s\n",
            "1:\tlearn: 0.4924696\ttotal: 251ms\tremaining: 2m 5s\n",
            "2:\tlearn: 0.4533706\ttotal: 360ms\tremaining: 1m 59s\n",
            "3:\tlearn: 0.4332427\ttotal: 463ms\tremaining: 1m 55s\n",
            "4:\tlearn: 0.4163959\ttotal: 564ms\tremaining: 1m 52s\n",
            "5:\tlearn: 0.4013123\ttotal: 663ms\tremaining: 1m 49s\n",
            "6:\tlearn: 0.3931441\ttotal: 763ms\tremaining: 1m 48s\n",
            "7:\tlearn: 0.3834679\ttotal: 865ms\tremaining: 1m 47s\n",
            "8:\tlearn: 0.3706560\ttotal: 965ms\tremaining: 1m 46s\n",
            "9:\tlearn: 0.3537326\ttotal: 1.07s\tremaining: 1m 45s\n",
            "10:\tlearn: 0.3370342\ttotal: 1.17s\tremaining: 1m 45s\n",
            "11:\tlearn: 0.3198557\ttotal: 1.26s\tremaining: 1m 44s\n",
            "12:\tlearn: 0.3079997\ttotal: 1.36s\tremaining: 1m 43s\n",
            "13:\tlearn: 0.2931699\ttotal: 1.46s\tremaining: 1m 43s\n",
            "14:\tlearn: 0.2767895\ttotal: 1.56s\tremaining: 1m 42s\n",
            "15:\tlearn: 0.2622121\ttotal: 1.66s\tremaining: 1m 42s\n",
            "16:\tlearn: 0.2585064\ttotal: 1.76s\tremaining: 1m 41s\n",
            "17:\tlearn: 0.2483885\ttotal: 1.86s\tremaining: 1m 41s\n",
            "18:\tlearn: 0.2379322\ttotal: 1.96s\tremaining: 1m 41s\n",
            "19:\tlearn: 0.2350098\ttotal: 2.06s\tremaining: 1m 41s\n",
            "20:\tlearn: 0.2263958\ttotal: 2.17s\tremaining: 1m 41s\n",
            "21:\tlearn: 0.2174779\ttotal: 2.27s\tremaining: 1m 41s\n",
            "22:\tlearn: 0.2089009\ttotal: 2.37s\tremaining: 1m 40s\n",
            "23:\tlearn: 0.2064310\ttotal: 2.47s\tremaining: 1m 40s\n",
            "24:\tlearn: 0.2048423\ttotal: 2.57s\tremaining: 1m 40s\n",
            "25:\tlearn: 0.1963513\ttotal: 2.67s\tremaining: 1m 40s\n",
            "26:\tlearn: 0.1947382\ttotal: 2.77s\tremaining: 1m 39s\n",
            "27:\tlearn: 0.1936240\ttotal: 2.88s\tremaining: 1m 39s\n",
            "28:\tlearn: 0.1884166\ttotal: 2.98s\tremaining: 1m 39s\n",
            "29:\tlearn: 0.1847392\ttotal: 3.09s\tremaining: 1m 39s\n",
            "30:\tlearn: 0.1829730\ttotal: 3.19s\tremaining: 1m 39s\n",
            "31:\tlearn: 0.1798889\ttotal: 3.29s\tremaining: 1m 39s\n",
            "32:\tlearn: 0.1732710\ttotal: 3.39s\tremaining: 1m 39s\n",
            "33:\tlearn: 0.1672380\ttotal: 3.49s\tremaining: 1m 39s\n",
            "34:\tlearn: 0.1655992\ttotal: 3.58s\tremaining: 1m 38s\n",
            "35:\tlearn: 0.1610061\ttotal: 3.69s\tremaining: 1m 38s\n",
            "36:\tlearn: 0.1600199\ttotal: 3.78s\tremaining: 1m 38s\n",
            "37:\tlearn: 0.1542229\ttotal: 3.88s\tremaining: 1m 38s\n",
            "38:\tlearn: 0.1483252\ttotal: 3.98s\tremaining: 1m 38s\n",
            "39:\tlearn: 0.1457104\ttotal: 4.09s\tremaining: 1m 38s\n",
            "40:\tlearn: 0.1419075\ttotal: 4.19s\tremaining: 1m 37s\n",
            "41:\tlearn: 0.1411311\ttotal: 4.29s\tremaining: 1m 37s\n",
            "42:\tlearn: 0.1404458\ttotal: 4.39s\tremaining: 1m 37s\n",
            "43:\tlearn: 0.1368858\ttotal: 4.49s\tremaining: 1m 37s\n",
            "44:\tlearn: 0.1320013\ttotal: 4.58s\tremaining: 1m 37s\n",
            "45:\tlearn: 0.1313879\ttotal: 4.68s\tremaining: 1m 37s\n",
            "46:\tlearn: 0.1282248\ttotal: 4.78s\tremaining: 1m 37s\n",
            "47:\tlearn: 0.1253548\ttotal: 4.88s\tremaining: 1m 36s\n",
            "48:\tlearn: 0.1218293\ttotal: 4.98s\tremaining: 1m 36s\n",
            "49:\tlearn: 0.1210636\ttotal: 5.1s\tremaining: 1m 36s\n",
            "50:\tlearn: 0.1193178\ttotal: 5.19s\tremaining: 1m 36s\n",
            "51:\tlearn: 0.1186313\ttotal: 5.29s\tremaining: 1m 36s\n",
            "52:\tlearn: 0.1152720\ttotal: 5.39s\tremaining: 1m 36s\n",
            "53:\tlearn: 0.1127790\ttotal: 5.49s\tremaining: 1m 36s\n",
            "54:\tlearn: 0.1112333\ttotal: 5.59s\tremaining: 1m 35s\n",
            "55:\tlearn: 0.1096371\ttotal: 5.68s\tremaining: 1m 35s\n",
            "56:\tlearn: 0.1092454\ttotal: 5.78s\tremaining: 1m 35s\n",
            "57:\tlearn: 0.1082700\ttotal: 5.88s\tremaining: 1m 35s\n",
            "58:\tlearn: 0.1067767\ttotal: 5.99s\tremaining: 1m 35s\n",
            "59:\tlearn: 0.1064143\ttotal: 6.09s\tremaining: 1m 35s\n",
            "60:\tlearn: 0.1048998\ttotal: 6.19s\tremaining: 1m 35s\n",
            "61:\tlearn: 0.1028632\ttotal: 6.29s\tremaining: 1m 35s\n",
            "62:\tlearn: 0.0998538\ttotal: 6.39s\tremaining: 1m 35s\n",
            "63:\tlearn: 0.0994848\ttotal: 6.49s\tremaining: 1m 34s\n",
            "64:\tlearn: 0.0964248\ttotal: 6.59s\tremaining: 1m 34s\n",
            "65:\tlearn: 0.0939535\ttotal: 6.7s\tremaining: 1m 34s\n",
            "66:\tlearn: 0.0934751\ttotal: 6.81s\tremaining: 1m 34s\n",
            "67:\tlearn: 0.0923894\ttotal: 6.91s\tremaining: 1m 34s\n",
            "68:\tlearn: 0.0906454\ttotal: 7.01s\tremaining: 1m 34s\n",
            "69:\tlearn: 0.0896125\ttotal: 7.12s\tremaining: 1m 34s\n",
            "70:\tlearn: 0.0874985\ttotal: 7.22s\tremaining: 1m 34s\n",
            "71:\tlearn: 0.0871409\ttotal: 7.32s\tremaining: 1m 34s\n",
            "72:\tlearn: 0.0868690\ttotal: 7.43s\tremaining: 1m 34s\n",
            "73:\tlearn: 0.0860080\ttotal: 7.53s\tremaining: 1m 34s\n",
            "74:\tlearn: 0.0846068\ttotal: 7.63s\tremaining: 1m 34s\n",
            "75:\tlearn: 0.0843670\ttotal: 7.73s\tremaining: 1m 33s\n",
            "76:\tlearn: 0.0829725\ttotal: 7.83s\tremaining: 1m 33s\n",
            "77:\tlearn: 0.0813770\ttotal: 7.93s\tremaining: 1m 33s\n",
            "78:\tlearn: 0.0808242\ttotal: 8.03s\tremaining: 1m 33s\n",
            "79:\tlearn: 0.0790577\ttotal: 8.15s\tremaining: 1m 33s\n",
            "80:\tlearn: 0.0788297\ttotal: 8.27s\tremaining: 1m 33s\n",
            "81:\tlearn: 0.0778698\ttotal: 8.37s\tremaining: 1m 33s\n",
            "82:\tlearn: 0.0769907\ttotal: 8.47s\tremaining: 1m 33s\n",
            "83:\tlearn: 0.0759150\ttotal: 8.58s\tremaining: 1m 33s\n",
            "84:\tlearn: 0.0734316\ttotal: 8.67s\tremaining: 1m 33s\n",
            "85:\tlearn: 0.0732141\ttotal: 8.77s\tremaining: 1m 33s\n",
            "86:\tlearn: 0.0711613\ttotal: 8.88s\tremaining: 1m 33s\n",
            "87:\tlearn: 0.0709390\ttotal: 8.99s\tremaining: 1m 33s\n",
            "88:\tlearn: 0.0695274\ttotal: 9.09s\tremaining: 1m 33s\n",
            "89:\tlearn: 0.0674325\ttotal: 9.2s\tremaining: 1m 33s\n",
            "90:\tlearn: 0.0664913\ttotal: 9.3s\tremaining: 1m 32s\n",
            "91:\tlearn: 0.0662266\ttotal: 9.4s\tremaining: 1m 32s\n",
            "92:\tlearn: 0.0654391\ttotal: 9.5s\tremaining: 1m 32s\n",
            "93:\tlearn: 0.0652365\ttotal: 9.6s\tremaining: 1m 32s\n",
            "94:\tlearn: 0.0648478\ttotal: 9.7s\tremaining: 1m 32s\n",
            "95:\tlearn: 0.0640307\ttotal: 9.8s\tremaining: 1m 32s\n",
            "96:\tlearn: 0.0629290\ttotal: 9.91s\tremaining: 1m 32s\n",
            "97:\tlearn: 0.0616444\ttotal: 10s\tremaining: 1m 32s\n",
            "98:\tlearn: 0.0612650\ttotal: 10.1s\tremaining: 1m 32s\n",
            "99:\tlearn: 0.0596601\ttotal: 10.2s\tremaining: 1m 31s\n",
            "100:\tlearn: 0.0587621\ttotal: 10.3s\tremaining: 1m 31s\n",
            "101:\tlearn: 0.0585639\ttotal: 10.4s\tremaining: 1m 31s\n",
            "102:\tlearn: 0.0579198\ttotal: 10.5s\tremaining: 1m 31s\n",
            "103:\tlearn: 0.0565106\ttotal: 10.6s\tremaining: 1m 31s\n",
            "104:\tlearn: 0.0557742\ttotal: 10.7s\tremaining: 1m 31s\n",
            "105:\tlearn: 0.0551860\ttotal: 10.8s\tremaining: 1m 31s\n",
            "106:\tlearn: 0.0540080\ttotal: 10.9s\tremaining: 1m 31s\n",
            "107:\tlearn: 0.0538639\ttotal: 11s\tremaining: 1m 31s\n",
            "108:\tlearn: 0.0533037\ttotal: 11.1s\tremaining: 1m 31s\n",
            "109:\tlearn: 0.0524730\ttotal: 11.2s\tremaining: 1m 30s\n",
            "110:\tlearn: 0.0523268\ttotal: 11.3s\tremaining: 1m 30s\n",
            "111:\tlearn: 0.0522087\ttotal: 11.5s\tremaining: 1m 30s\n",
            "112:\tlearn: 0.0518262\ttotal: 11.6s\tremaining: 1m 30s\n",
            "113:\tlearn: 0.0514517\ttotal: 11.7s\tremaining: 1m 30s\n",
            "114:\tlearn: 0.0504435\ttotal: 11.8s\tremaining: 1m 30s\n",
            "115:\tlearn: 0.0501957\ttotal: 11.9s\tremaining: 1m 30s\n",
            "116:\tlearn: 0.0500551\ttotal: 12s\tremaining: 1m 30s\n",
            "117:\tlearn: 0.0495845\ttotal: 12.1s\tremaining: 1m 30s\n",
            "118:\tlearn: 0.0488894\ttotal: 12.2s\tremaining: 1m 30s\n",
            "119:\tlearn: 0.0483496\ttotal: 12.3s\tremaining: 1m 29s\n",
            "120:\tlearn: 0.0482468\ttotal: 12.4s\tremaining: 1m 29s\n",
            "121:\tlearn: 0.0478974\ttotal: 12.5s\tremaining: 1m 29s\n",
            "122:\tlearn: 0.0475573\ttotal: 12.6s\tremaining: 1m 29s\n",
            "123:\tlearn: 0.0473472\ttotal: 12.7s\tremaining: 1m 29s\n",
            "124:\tlearn: 0.0465528\ttotal: 12.8s\tremaining: 1m 29s\n",
            "125:\tlearn: 0.0458773\ttotal: 12.9s\tremaining: 1m 29s\n",
            "126:\tlearn: 0.0451344\ttotal: 13s\tremaining: 1m 29s\n",
            "127:\tlearn: 0.0447057\ttotal: 13.1s\tremaining: 1m 29s\n",
            "128:\tlearn: 0.0446158\ttotal: 13.2s\tremaining: 1m 28s\n",
            "129:\tlearn: 0.0438347\ttotal: 13.3s\tremaining: 1m 28s\n",
            "130:\tlearn: 0.0435044\ttotal: 13.4s\tremaining: 1m 28s\n",
            "131:\tlearn: 0.0434145\ttotal: 13.5s\tremaining: 1m 28s\n",
            "132:\tlearn: 0.0426208\ttotal: 13.6s\tremaining: 1m 28s\n",
            "133:\tlearn: 0.0422403\ttotal: 13.7s\tremaining: 1m 28s\n",
            "134:\tlearn: 0.0421505\ttotal: 13.8s\tremaining: 1m 28s\n",
            "135:\tlearn: 0.0415842\ttotal: 13.9s\tremaining: 1m 28s\n",
            "136:\tlearn: 0.0413990\ttotal: 14s\tremaining: 1m 28s\n",
            "137:\tlearn: 0.0410221\ttotal: 14.1s\tremaining: 1m 27s\n",
            "138:\tlearn: 0.0409518\ttotal: 14.2s\tremaining: 1m 27s\n",
            "139:\tlearn: 0.0406008\ttotal: 14.3s\tremaining: 1m 27s\n",
            "140:\tlearn: 0.0405240\ttotal: 14.4s\tremaining: 1m 27s\n",
            "141:\tlearn: 0.0401002\ttotal: 14.5s\tremaining: 1m 27s\n",
            "142:\tlearn: 0.0397390\ttotal: 14.6s\tremaining: 1m 27s\n",
            "143:\tlearn: 0.0392388\ttotal: 14.7s\tremaining: 1m 27s\n",
            "144:\tlearn: 0.0390342\ttotal: 14.8s\tremaining: 1m 27s\n",
            "145:\tlearn: 0.0389754\ttotal: 14.9s\tremaining: 1m 27s\n",
            "146:\tlearn: 0.0385870\ttotal: 15s\tremaining: 1m 27s\n",
            "147:\tlearn: 0.0382560\ttotal: 15.1s\tremaining: 1m 26s\n",
            "148:\tlearn: 0.0379964\ttotal: 15.2s\tremaining: 1m 26s\n",
            "149:\tlearn: 0.0375314\ttotal: 15.3s\tremaining: 1m 26s\n",
            "150:\tlearn: 0.0374689\ttotal: 15.4s\tremaining: 1m 26s\n",
            "151:\tlearn: 0.0370326\ttotal: 15.5s\tremaining: 1m 26s\n",
            "152:\tlearn: 0.0364902\ttotal: 15.6s\tremaining: 1m 26s\n",
            "153:\tlearn: 0.0361804\ttotal: 15.7s\tremaining: 1m 26s\n",
            "154:\tlearn: 0.0355383\ttotal: 15.8s\tremaining: 1m 26s\n",
            "155:\tlearn: 0.0347878\ttotal: 15.9s\tremaining: 1m 26s\n",
            "156:\tlearn: 0.0341766\ttotal: 16s\tremaining: 1m 26s\n",
            "157:\tlearn: 0.0340769\ttotal: 16.1s\tremaining: 1m 26s\n",
            "158:\tlearn: 0.0339445\ttotal: 16.3s\tremaining: 1m 25s\n",
            "159:\tlearn: 0.0338026\ttotal: 16.4s\tremaining: 1m 25s\n",
            "160:\tlearn: 0.0334478\ttotal: 16.5s\tremaining: 1m 25s\n",
            "161:\tlearn: 0.0333930\ttotal: 16.6s\tremaining: 1m 25s\n",
            "162:\tlearn: 0.0328646\ttotal: 16.7s\tremaining: 1m 25s\n",
            "163:\tlearn: 0.0326628\ttotal: 16.8s\tremaining: 1m 25s\n",
            "164:\tlearn: 0.0322077\ttotal: 16.9s\tremaining: 1m 25s\n",
            "165:\tlearn: 0.0321563\ttotal: 17s\tremaining: 1m 25s\n",
            "166:\tlearn: 0.0320853\ttotal: 17.1s\tremaining: 1m 25s\n",
            "167:\tlearn: 0.0318745\ttotal: 17.2s\tremaining: 1m 25s\n",
            "168:\tlearn: 0.0314627\ttotal: 17.3s\tremaining: 1m 25s\n",
            "169:\tlearn: 0.0310538\ttotal: 17.4s\tremaining: 1m 24s\n",
            "170:\tlearn: 0.0305516\ttotal: 17.5s\tremaining: 1m 24s\n",
            "171:\tlearn: 0.0305077\ttotal: 17.6s\tremaining: 1m 24s\n",
            "172:\tlearn: 0.0303023\ttotal: 17.7s\tremaining: 1m 24s\n",
            "173:\tlearn: 0.0301028\ttotal: 17.8s\tremaining: 1m 24s\n",
            "174:\tlearn: 0.0300468\ttotal: 17.9s\tremaining: 1m 24s\n",
            "175:\tlearn: 0.0298506\ttotal: 18s\tremaining: 1m 24s\n",
            "176:\tlearn: 0.0295386\ttotal: 18.1s\tremaining: 1m 24s\n",
            "177:\tlearn: 0.0293820\ttotal: 18.2s\tremaining: 1m 24s\n",
            "178:\tlearn: 0.0293041\ttotal: 18.3s\tremaining: 1m 24s\n",
            "179:\tlearn: 0.0288382\ttotal: 18.4s\tremaining: 1m 24s\n",
            "180:\tlearn: 0.0287310\ttotal: 18.6s\tremaining: 1m 23s\n",
            "181:\tlearn: 0.0281004\ttotal: 18.7s\tremaining: 1m 23s\n",
            "182:\tlearn: 0.0278168\ttotal: 18.8s\tremaining: 1m 23s\n",
            "183:\tlearn: 0.0277694\ttotal: 18.9s\tremaining: 1m 23s\n",
            "184:\tlearn: 0.0276355\ttotal: 19s\tremaining: 1m 23s\n",
            "185:\tlearn: 0.0272865\ttotal: 19.1s\tremaining: 1m 23s\n",
            "186:\tlearn: 0.0267215\ttotal: 19.2s\tremaining: 1m 23s\n",
            "187:\tlearn: 0.0266855\ttotal: 19.3s\tremaining: 1m 23s\n",
            "188:\tlearn: 0.0264184\ttotal: 19.4s\tremaining: 1m 23s\n",
            "189:\tlearn: 0.0263062\ttotal: 19.5s\tremaining: 1m 23s\n",
            "190:\tlearn: 0.0261997\ttotal: 19.6s\tremaining: 1m 22s\n",
            "191:\tlearn: 0.0259032\ttotal: 19.7s\tremaining: 1m 22s\n",
            "192:\tlearn: 0.0258500\ttotal: 19.8s\tremaining: 1m 22s\n",
            "193:\tlearn: 0.0252481\ttotal: 19.9s\tremaining: 1m 22s\n",
            "194:\tlearn: 0.0251970\ttotal: 20s\tremaining: 1m 22s\n",
            "195:\tlearn: 0.0248249\ttotal: 20.1s\tremaining: 1m 22s\n",
            "196:\tlearn: 0.0246824\ttotal: 20.2s\tremaining: 1m 22s\n",
            "197:\tlearn: 0.0246134\ttotal: 20.3s\tremaining: 1m 22s\n",
            "198:\tlearn: 0.0242390\ttotal: 20.4s\tremaining: 1m 22s\n",
            "199:\tlearn: 0.0241485\ttotal: 20.5s\tremaining: 1m 22s\n",
            "200:\tlearn: 0.0241179\ttotal: 20.6s\tremaining: 1m 21s\n",
            "201:\tlearn: 0.0239680\ttotal: 20.7s\tremaining: 1m 21s\n",
            "202:\tlearn: 0.0238327\ttotal: 20.8s\tremaining: 1m 21s\n",
            "203:\tlearn: 0.0236472\ttotal: 20.9s\tremaining: 1m 21s\n",
            "204:\tlearn: 0.0234905\ttotal: 21s\tremaining: 1m 21s\n",
            "205:\tlearn: 0.0233006\ttotal: 21.1s\tremaining: 1m 21s\n",
            "206:\tlearn: 0.0232745\ttotal: 21.2s\tremaining: 1m 21s\n",
            "207:\tlearn: 0.0231944\ttotal: 21.3s\tremaining: 1m 21s\n",
            "208:\tlearn: 0.0231093\ttotal: 21.5s\tremaining: 1m 21s\n",
            "209:\tlearn: 0.0230258\ttotal: 21.6s\tremaining: 1m 21s\n",
            "210:\tlearn: 0.0229448\ttotal: 21.7s\tremaining: 1m 21s\n",
            "211:\tlearn: 0.0228986\ttotal: 21.8s\tremaining: 1m 20s\n",
            "212:\tlearn: 0.0227653\ttotal: 21.9s\tremaining: 1m 20s\n",
            "213:\tlearn: 0.0227652\ttotal: 22s\tremaining: 1m 20s\n",
            "214:\tlearn: 0.0224667\ttotal: 22.1s\tremaining: 1m 20s\n",
            "215:\tlearn: 0.0224659\ttotal: 22.2s\tremaining: 1m 20s\n",
            "216:\tlearn: 0.0224356\ttotal: 22.3s\tremaining: 1m 20s\n",
            "217:\tlearn: 0.0224171\ttotal: 22.4s\tremaining: 1m 20s\n",
            "218:\tlearn: 0.0221926\ttotal: 22.5s\tremaining: 1m 20s\n",
            "219:\tlearn: 0.0221725\ttotal: 22.6s\tremaining: 1m 20s\n",
            "220:\tlearn: 0.0220129\ttotal: 22.7s\tremaining: 1m 19s\n",
            "221:\tlearn: 0.0217568\ttotal: 22.8s\tremaining: 1m 19s\n",
            "222:\tlearn: 0.0215148\ttotal: 22.9s\tremaining: 1m 19s\n",
            "223:\tlearn: 0.0214521\ttotal: 23s\tremaining: 1m 19s\n",
            "224:\tlearn: 0.0213626\ttotal: 23.1s\tremaining: 1m 19s\n",
            "225:\tlearn: 0.0213403\ttotal: 23.2s\tremaining: 1m 19s\n",
            "226:\tlearn: 0.0212306\ttotal: 23.3s\tremaining: 1m 19s\n",
            "227:\tlearn: 0.0211392\ttotal: 23.4s\tremaining: 1m 19s\n",
            "228:\tlearn: 0.0208492\ttotal: 23.5s\tremaining: 1m 19s\n",
            "229:\tlearn: 0.0207277\ttotal: 23.6s\tremaining: 1m 19s\n",
            "230:\tlearn: 0.0207084\ttotal: 23.7s\tremaining: 1m 18s\n",
            "231:\tlearn: 0.0206397\ttotal: 23.8s\tremaining: 1m 18s\n",
            "232:\tlearn: 0.0206397\ttotal: 23.9s\tremaining: 1m 18s\n",
            "233:\tlearn: 0.0204519\ttotal: 24s\tremaining: 1m 18s\n",
            "234:\tlearn: 0.0204005\ttotal: 24.1s\tremaining: 1m 18s\n",
            "235:\tlearn: 0.0202854\ttotal: 24.2s\tremaining: 1m 18s\n",
            "236:\tlearn: 0.0202846\ttotal: 24.3s\tremaining: 1m 18s\n",
            "237:\tlearn: 0.0201678\ttotal: 24.4s\tremaining: 1m 18s\n",
            "238:\tlearn: 0.0201226\ttotal: 24.5s\tremaining: 1m 18s\n",
            "239:\tlearn: 0.0200950\ttotal: 24.6s\tremaining: 1m 18s\n",
            "240:\tlearn: 0.0200893\ttotal: 24.7s\tremaining: 1m 17s\n",
            "241:\tlearn: 0.0198232\ttotal: 24.8s\tremaining: 1m 17s\n",
            "242:\tlearn: 0.0198231\ttotal: 24.9s\tremaining: 1m 17s\n",
            "243:\tlearn: 0.0197923\ttotal: 25s\tremaining: 1m 17s\n",
            "244:\tlearn: 0.0195124\ttotal: 25.1s\tremaining: 1m 17s\n",
            "245:\tlearn: 0.0195114\ttotal: 25.2s\tremaining: 1m 17s\n",
            "246:\tlearn: 0.0195113\ttotal: 25.4s\tremaining: 1m 17s\n",
            "247:\tlearn: 0.0195109\ttotal: 25.5s\tremaining: 1m 17s\n",
            "248:\tlearn: 0.0194954\ttotal: 25.6s\tremaining: 1m 17s\n",
            "249:\tlearn: 0.0194794\ttotal: 25.7s\tremaining: 1m 17s\n",
            "250:\tlearn: 0.0193815\ttotal: 25.8s\tremaining: 1m 16s\n",
            "251:\tlearn: 0.0193538\ttotal: 25.9s\tremaining: 1m 16s\n",
            "252:\tlearn: 0.0192093\ttotal: 26s\tremaining: 1m 16s\n",
            "253:\tlearn: 0.0190954\ttotal: 26.1s\tremaining: 1m 16s\n",
            "254:\tlearn: 0.0189508\ttotal: 26.2s\tremaining: 1m 16s\n",
            "255:\tlearn: 0.0188334\ttotal: 26.3s\tremaining: 1m 16s\n",
            "256:\tlearn: 0.0186819\ttotal: 26.4s\tremaining: 1m 16s\n",
            "257:\tlearn: 0.0186544\ttotal: 26.6s\tremaining: 1m 16s\n",
            "258:\tlearn: 0.0181976\ttotal: 26.7s\tremaining: 1m 16s\n",
            "259:\tlearn: 0.0181973\ttotal: 26.8s\tremaining: 1m 16s\n",
            "260:\tlearn: 0.0181310\ttotal: 26.9s\tremaining: 1m 16s\n",
            "261:\tlearn: 0.0180288\ttotal: 27s\tremaining: 1m 15s\n",
            "262:\tlearn: 0.0180196\ttotal: 27.1s\tremaining: 1m 15s\n",
            "263:\tlearn: 0.0179263\ttotal: 27.2s\tremaining: 1m 15s\n",
            "264:\tlearn: 0.0179001\ttotal: 27.3s\tremaining: 1m 15s\n",
            "265:\tlearn: 0.0178551\ttotal: 27.4s\tremaining: 1m 15s\n",
            "266:\tlearn: 0.0177943\ttotal: 27.5s\tremaining: 1m 15s\n",
            "267:\tlearn: 0.0177791\ttotal: 27.6s\tremaining: 1m 15s\n",
            "268:\tlearn: 0.0176689\ttotal: 27.7s\tremaining: 1m 15s\n",
            "269:\tlearn: 0.0176446\ttotal: 27.8s\tremaining: 1m 15s\n",
            "270:\tlearn: 0.0176041\ttotal: 27.9s\tremaining: 1m 15s\n",
            "271:\tlearn: 0.0175887\ttotal: 28s\tremaining: 1m 14s\n",
            "272:\tlearn: 0.0175286\ttotal: 28.1s\tremaining: 1m 14s\n",
            "273:\tlearn: 0.0175094\ttotal: 28.2s\tremaining: 1m 14s\n",
            "274:\tlearn: 0.0174167\ttotal: 28.3s\tremaining: 1m 14s\n",
            "275:\tlearn: 0.0173140\ttotal: 28.4s\tremaining: 1m 14s\n",
            "276:\tlearn: 0.0171540\ttotal: 28.5s\tremaining: 1m 14s\n",
            "277:\tlearn: 0.0170880\ttotal: 28.6s\tremaining: 1m 14s\n",
            "278:\tlearn: 0.0170233\ttotal: 28.8s\tremaining: 1m 14s\n",
            "279:\tlearn: 0.0169845\ttotal: 28.9s\tremaining: 1m 14s\n",
            "280:\tlearn: 0.0169744\ttotal: 29s\tremaining: 1m 14s\n",
            "281:\tlearn: 0.0169597\ttotal: 29.1s\tremaining: 1m 14s\n",
            "282:\tlearn: 0.0169439\ttotal: 29.2s\tremaining: 1m 13s\n",
            "283:\tlearn: 0.0168240\ttotal: 29.3s\tremaining: 1m 13s\n",
            "284:\tlearn: 0.0167768\ttotal: 29.4s\tremaining: 1m 13s\n",
            "285:\tlearn: 0.0167268\ttotal: 29.5s\tremaining: 1m 13s\n",
            "286:\tlearn: 0.0165470\ttotal: 29.6s\tremaining: 1m 13s\n",
            "287:\tlearn: 0.0165338\ttotal: 29.7s\tremaining: 1m 13s\n",
            "288:\tlearn: 0.0163624\ttotal: 29.8s\tremaining: 1m 13s\n",
            "289:\tlearn: 0.0162906\ttotal: 29.9s\tremaining: 1m 13s\n",
            "290:\tlearn: 0.0162044\ttotal: 30s\tremaining: 1m 13s\n",
            "291:\tlearn: 0.0161130\ttotal: 30.1s\tremaining: 1m 12s\n",
            "292:\tlearn: 0.0160915\ttotal: 30.2s\tremaining: 1m 12s\n",
            "293:\tlearn: 0.0159966\ttotal: 30.3s\tremaining: 1m 12s\n",
            "294:\tlearn: 0.0159606\ttotal: 30.4s\tremaining: 1m 12s\n",
            "295:\tlearn: 0.0157252\ttotal: 30.5s\tremaining: 1m 12s\n",
            "296:\tlearn: 0.0157252\ttotal: 30.6s\tremaining: 1m 12s\n",
            "297:\tlearn: 0.0157228\ttotal: 30.7s\tremaining: 1m 12s\n",
            "298:\tlearn: 0.0156978\ttotal: 30.8s\tremaining: 1m 12s\n",
            "299:\tlearn: 0.0156836\ttotal: 30.9s\tremaining: 1m 12s\n",
            "300:\tlearn: 0.0156812\ttotal: 31s\tremaining: 1m 12s\n",
            "301:\tlearn: 0.0155868\ttotal: 31.1s\tremaining: 1m 11s\n",
            "302:\tlearn: 0.0155767\ttotal: 31.2s\tremaining: 1m 11s\n",
            "303:\tlearn: 0.0155660\ttotal: 31.3s\tremaining: 1m 11s\n",
            "304:\tlearn: 0.0154428\ttotal: 31.4s\tremaining: 1m 11s\n",
            "305:\tlearn: 0.0154428\ttotal: 31.5s\tremaining: 1m 11s\n",
            "306:\tlearn: 0.0154427\ttotal: 31.6s\tremaining: 1m 11s\n",
            "307:\tlearn: 0.0154427\ttotal: 31.7s\tremaining: 1m 11s\n",
            "308:\tlearn: 0.0154427\ttotal: 31.8s\tremaining: 1m 11s\n",
            "309:\tlearn: 0.0154309\ttotal: 31.9s\tremaining: 1m 11s\n",
            "310:\tlearn: 0.0154072\ttotal: 32s\tremaining: 1m 10s\n",
            "311:\tlearn: 0.0153993\ttotal: 32.1s\tremaining: 1m 10s\n",
            "312:\tlearn: 0.0153966\ttotal: 32.2s\tremaining: 1m 10s\n",
            "313:\tlearn: 0.0153645\ttotal: 32.3s\tremaining: 1m 10s\n",
            "314:\tlearn: 0.0152962\ttotal: 32.4s\tremaining: 1m 10s\n",
            "315:\tlearn: 0.0151824\ttotal: 32.5s\tremaining: 1m 10s\n",
            "316:\tlearn: 0.0150663\ttotal: 32.6s\tremaining: 1m 10s\n",
            "317:\tlearn: 0.0150661\ttotal: 32.7s\tremaining: 1m 10s\n",
            "318:\tlearn: 0.0150559\ttotal: 32.9s\tremaining: 1m 10s\n",
            "319:\tlearn: 0.0150554\ttotal: 32.9s\tremaining: 1m 10s\n",
            "320:\tlearn: 0.0150013\ttotal: 33.1s\tremaining: 1m 9s\n",
            "321:\tlearn: 0.0150009\ttotal: 33.2s\tremaining: 1m 9s\n",
            "322:\tlearn: 0.0149379\ttotal: 33.3s\tremaining: 1m 9s\n",
            "323:\tlearn: 0.0149240\ttotal: 33.4s\tremaining: 1m 9s\n",
            "324:\tlearn: 0.0149233\ttotal: 33.5s\tremaining: 1m 9s\n",
            "325:\tlearn: 0.0149114\ttotal: 33.6s\tremaining: 1m 9s\n",
            "326:\tlearn: 0.0149112\ttotal: 33.7s\tremaining: 1m 9s\n",
            "327:\tlearn: 0.0148764\ttotal: 33.8s\tremaining: 1m 9s\n",
            "328:\tlearn: 0.0148712\ttotal: 33.9s\tremaining: 1m 9s\n",
            "329:\tlearn: 0.0148363\ttotal: 34s\tremaining: 1m 8s\n",
            "330:\tlearn: 0.0147946\ttotal: 34.1s\tremaining: 1m 8s\n",
            "331:\tlearn: 0.0147946\ttotal: 34.2s\tremaining: 1m 8s\n",
            "332:\tlearn: 0.0147583\ttotal: 34.3s\tremaining: 1m 8s\n",
            "333:\tlearn: 0.0147583\ttotal: 34.4s\tremaining: 1m 8s\n",
            "334:\tlearn: 0.0146830\ttotal: 34.5s\tremaining: 1m 8s\n",
            "335:\tlearn: 0.0146347\ttotal: 34.6s\tremaining: 1m 8s\n",
            "336:\tlearn: 0.0146343\ttotal: 34.7s\tremaining: 1m 8s\n",
            "337:\tlearn: 0.0144718\ttotal: 34.8s\tremaining: 1m 8s\n",
            "338:\tlearn: 0.0144717\ttotal: 34.9s\tremaining: 1m 8s\n",
            "339:\tlearn: 0.0143812\ttotal: 35s\tremaining: 1m 7s\n",
            "340:\tlearn: 0.0143811\ttotal: 35.1s\tremaining: 1m 7s\n",
            "341:\tlearn: 0.0143811\ttotal: 35.2s\tremaining: 1m 7s\n",
            "342:\tlearn: 0.0143810\ttotal: 35.3s\tremaining: 1m 7s\n",
            "343:\tlearn: 0.0143809\ttotal: 35.4s\tremaining: 1m 7s\n",
            "344:\tlearn: 0.0143806\ttotal: 35.5s\tremaining: 1m 7s\n",
            "345:\tlearn: 0.0143806\ttotal: 35.6s\tremaining: 1m 7s\n",
            "346:\tlearn: 0.0143803\ttotal: 35.7s\tremaining: 1m 7s\n",
            "347:\tlearn: 0.0143784\ttotal: 35.8s\tremaining: 1m 7s\n",
            "348:\tlearn: 0.0143745\ttotal: 35.9s\tremaining: 1m 6s\n",
            "349:\tlearn: 0.0143665\ttotal: 36s\tremaining: 1m 6s\n",
            "350:\tlearn: 0.0143465\ttotal: 36.1s\tremaining: 1m 6s\n",
            "351:\tlearn: 0.0143464\ttotal: 36.2s\tremaining: 1m 6s\n",
            "352:\tlearn: 0.0143460\ttotal: 36.3s\tremaining: 1m 6s\n",
            "353:\tlearn: 0.0143407\ttotal: 36.4s\tremaining: 1m 6s\n",
            "354:\tlearn: 0.0143395\ttotal: 36.5s\tremaining: 1m 6s\n",
            "355:\tlearn: 0.0143394\ttotal: 36.6s\tremaining: 1m 6s\n",
            "356:\tlearn: 0.0143377\ttotal: 36.7s\tremaining: 1m 6s\n",
            "357:\tlearn: 0.0143362\ttotal: 36.8s\tremaining: 1m 6s\n",
            "358:\tlearn: 0.0143361\ttotal: 36.9s\tremaining: 1m 5s\n",
            "359:\tlearn: 0.0143353\ttotal: 37s\tremaining: 1m 5s\n",
            "360:\tlearn: 0.0143349\ttotal: 37.1s\tremaining: 1m 5s\n",
            "361:\tlearn: 0.0143340\ttotal: 37.2s\tremaining: 1m 5s\n",
            "362:\tlearn: 0.0143115\ttotal: 37.3s\tremaining: 1m 5s\n",
            "363:\tlearn: 0.0143110\ttotal: 37.4s\tremaining: 1m 5s\n",
            "364:\tlearn: 0.0142300\ttotal: 37.5s\tremaining: 1m 5s\n",
            "365:\tlearn: 0.0142296\ttotal: 37.6s\tremaining: 1m 5s\n",
            "366:\tlearn: 0.0142044\ttotal: 37.7s\tremaining: 1m 5s\n",
            "367:\tlearn: 0.0141471\ttotal: 37.8s\tremaining: 1m 4s\n",
            "368:\tlearn: 0.0141470\ttotal: 37.9s\tremaining: 1m 4s\n",
            "369:\tlearn: 0.0140348\ttotal: 38s\tremaining: 1m 4s\n",
            "370:\tlearn: 0.0140025\ttotal: 38.1s\tremaining: 1m 4s\n",
            "371:\tlearn: 0.0139526\ttotal: 38.2s\tremaining: 1m 4s\n",
            "372:\tlearn: 0.0139523\ttotal: 38.3s\tremaining: 1m 4s\n",
            "373:\tlearn: 0.0138824\ttotal: 38.4s\tremaining: 1m 4s\n",
            "374:\tlearn: 0.0138109\ttotal: 38.5s\tremaining: 1m 4s\n",
            "375:\tlearn: 0.0138019\ttotal: 38.6s\tremaining: 1m 4s\n",
            "376:\tlearn: 0.0138018\ttotal: 38.7s\tremaining: 1m 4s\n",
            "377:\tlearn: 0.0138016\ttotal: 38.9s\tremaining: 1m 3s\n",
            "378:\tlearn: 0.0137633\ttotal: 39s\tremaining: 1m 3s\n",
            "379:\tlearn: 0.0137622\ttotal: 39s\tremaining: 1m 3s\n",
            "380:\tlearn: 0.0136730\ttotal: 39.2s\tremaining: 1m 3s\n",
            "381:\tlearn: 0.0136727\ttotal: 39.2s\tremaining: 1m 3s\n",
            "382:\tlearn: 0.0135579\ttotal: 39.3s\tremaining: 1m 3s\n",
            "383:\tlearn: 0.0135577\ttotal: 39.5s\tremaining: 1m 3s\n",
            "384:\tlearn: 0.0135554\ttotal: 39.6s\tremaining: 1m 3s\n",
            "385:\tlearn: 0.0135536\ttotal: 39.7s\tremaining: 1m 3s\n",
            "386:\tlearn: 0.0133639\ttotal: 39.8s\tremaining: 1m 3s\n",
            "387:\tlearn: 0.0132804\ttotal: 39.9s\tremaining: 1m 2s\n",
            "388:\tlearn: 0.0132732\ttotal: 40s\tremaining: 1m 2s\n",
            "389:\tlearn: 0.0132724\ttotal: 40.1s\tremaining: 1m 2s\n",
            "390:\tlearn: 0.0132590\ttotal: 40.2s\tremaining: 1m 2s\n",
            "391:\tlearn: 0.0132398\ttotal: 40.3s\tremaining: 1m 2s\n",
            "392:\tlearn: 0.0132396\ttotal: 40.4s\tremaining: 1m 2s\n",
            "393:\tlearn: 0.0132245\ttotal: 40.5s\tremaining: 1m 2s\n",
            "394:\tlearn: 0.0132172\ttotal: 40.6s\tremaining: 1m 2s\n",
            "395:\tlearn: 0.0132133\ttotal: 40.7s\tremaining: 1m 2s\n",
            "396:\tlearn: 0.0132133\ttotal: 40.8s\tremaining: 1m 1s\n",
            "397:\tlearn: 0.0132053\ttotal: 40.9s\tremaining: 1m 1s\n",
            "398:\tlearn: 0.0132050\ttotal: 41s\tremaining: 1m 1s\n",
            "399:\tlearn: 0.0132050\ttotal: 41.1s\tremaining: 1m 1s\n",
            "400:\tlearn: 0.0132046\ttotal: 41.2s\tremaining: 1m 1s\n",
            "401:\tlearn: 0.0132046\ttotal: 41.3s\tremaining: 1m 1s\n",
            "402:\tlearn: 0.0131052\ttotal: 41.4s\tremaining: 1m 1s\n",
            "403:\tlearn: 0.0131052\ttotal: 41.5s\tremaining: 1m 1s\n",
            "404:\tlearn: 0.0130308\ttotal: 41.6s\tremaining: 1m 1s\n",
            "405:\tlearn: 0.0129364\ttotal: 41.7s\tremaining: 1m 1s\n",
            "406:\tlearn: 0.0129362\ttotal: 41.8s\tremaining: 1m\n",
            "407:\tlearn: 0.0129058\ttotal: 41.9s\tremaining: 1m\n",
            "408:\tlearn: 0.0129009\ttotal: 42s\tremaining: 1m\n",
            "409:\tlearn: 0.0129004\ttotal: 42.1s\tremaining: 1m\n",
            "410:\tlearn: 0.0128339\ttotal: 42.2s\tremaining: 1m\n",
            "411:\tlearn: 0.0128277\ttotal: 42.3s\tremaining: 1m\n",
            "412:\tlearn: 0.0127685\ttotal: 42.4s\tremaining: 1m\n",
            "413:\tlearn: 0.0127685\ttotal: 42.5s\tremaining: 1m\n",
            "414:\tlearn: 0.0126656\ttotal: 42.6s\tremaining: 1m\n",
            "415:\tlearn: 0.0126397\ttotal: 42.7s\tremaining: 60s\n",
            "416:\tlearn: 0.0126397\ttotal: 42.8s\tremaining: 59.9s\n",
            "417:\tlearn: 0.0125176\ttotal: 42.9s\tremaining: 59.7s\n",
            "418:\tlearn: 0.0124789\ttotal: 43s\tremaining: 59.6s\n",
            "419:\tlearn: 0.0124789\ttotal: 43.1s\tremaining: 59.5s\n",
            "420:\tlearn: 0.0123978\ttotal: 43.2s\tremaining: 59.4s\n",
            "421:\tlearn: 0.0123835\ttotal: 43.3s\tremaining: 59.3s\n",
            "422:\tlearn: 0.0123826\ttotal: 43.4s\tremaining: 59.2s\n",
            "423:\tlearn: 0.0123510\ttotal: 43.5s\tremaining: 59.1s\n",
            "424:\tlearn: 0.0123048\ttotal: 43.6s\tremaining: 59s\n",
            "425:\tlearn: 0.0122637\ttotal: 43.7s\tremaining: 58.9s\n",
            "426:\tlearn: 0.0122626\ttotal: 43.8s\tremaining: 58.8s\n",
            "427:\tlearn: 0.0122622\ttotal: 43.9s\tremaining: 58.7s\n",
            "428:\tlearn: 0.0122474\ttotal: 44s\tremaining: 58.6s\n",
            "429:\tlearn: 0.0122466\ttotal: 44.1s\tremaining: 58.5s\n",
            "430:\tlearn: 0.0122459\ttotal: 44.2s\tremaining: 58.4s\n",
            "431:\tlearn: 0.0121949\ttotal: 44.3s\tremaining: 58.3s\n",
            "432:\tlearn: 0.0121669\ttotal: 44.4s\tremaining: 58.2s\n",
            "433:\tlearn: 0.0120122\ttotal: 44.5s\tremaining: 58.1s\n",
            "434:\tlearn: 0.0120117\ttotal: 44.6s\tremaining: 58s\n",
            "435:\tlearn: 0.0120115\ttotal: 44.7s\tremaining: 57.9s\n",
            "436:\tlearn: 0.0120115\ttotal: 44.8s\tremaining: 57.8s\n",
            "437:\tlearn: 0.0120114\ttotal: 44.9s\tremaining: 57.7s\n",
            "438:\tlearn: 0.0120114\ttotal: 45s\tremaining: 57.5s\n",
            "439:\tlearn: 0.0118939\ttotal: 45.1s\tremaining: 57.4s\n",
            "440:\tlearn: 0.0118934\ttotal: 45.2s\tremaining: 57.3s\n",
            "441:\tlearn: 0.0118932\ttotal: 45.3s\tremaining: 57.2s\n",
            "442:\tlearn: 0.0118930\ttotal: 45.4s\tremaining: 57.1s\n",
            "443:\tlearn: 0.0118925\ttotal: 45.5s\tremaining: 57s\n",
            "444:\tlearn: 0.0118914\ttotal: 45.6s\tremaining: 56.9s\n",
            "445:\tlearn: 0.0118900\ttotal: 45.7s\tremaining: 56.8s\n",
            "446:\tlearn: 0.0118838\ttotal: 45.8s\tremaining: 56.7s\n",
            "447:\tlearn: 0.0118826\ttotal: 45.9s\tremaining: 56.6s\n",
            "448:\tlearn: 0.0118821\ttotal: 46s\tremaining: 56.5s\n",
            "449:\tlearn: 0.0118821\ttotal: 46.1s\tremaining: 56.4s\n",
            "450:\tlearn: 0.0118811\ttotal: 46.2s\tremaining: 56.3s\n",
            "451:\tlearn: 0.0118810\ttotal: 46.3s\tremaining: 56.2s\n",
            "452:\tlearn: 0.0117864\ttotal: 46.4s\tremaining: 56.1s\n",
            "453:\tlearn: 0.0117862\ttotal: 46.5s\tremaining: 56s\n",
            "454:\tlearn: 0.0117862\ttotal: 46.6s\tremaining: 55.9s\n",
            "455:\tlearn: 0.0117862\ttotal: 46.7s\tremaining: 55.8s\n",
            "456:\tlearn: 0.0117861\ttotal: 46.8s\tremaining: 55.6s\n",
            "457:\tlearn: 0.0117861\ttotal: 46.9s\tremaining: 55.5s\n",
            "458:\tlearn: 0.0117860\ttotal: 47s\tremaining: 55.4s\n",
            "459:\tlearn: 0.0117859\ttotal: 47.1s\tremaining: 55.3s\n",
            "460:\tlearn: 0.0117856\ttotal: 47.2s\tremaining: 55.2s\n",
            "461:\tlearn: 0.0117854\ttotal: 47.3s\tremaining: 55.1s\n",
            "462:\tlearn: 0.0117854\ttotal: 47.4s\tremaining: 55s\n",
            "463:\tlearn: 0.0117853\ttotal: 47.5s\tremaining: 54.9s\n",
            "464:\tlearn: 0.0117852\ttotal: 47.6s\tremaining: 54.8s\n",
            "465:\tlearn: 0.0117846\ttotal: 47.7s\tremaining: 54.7s\n",
            "466:\tlearn: 0.0117846\ttotal: 47.8s\tremaining: 54.6s\n",
            "467:\tlearn: 0.0117843\ttotal: 47.9s\tremaining: 54.5s\n",
            "468:\tlearn: 0.0117843\ttotal: 48s\tremaining: 54.4s\n",
            "469:\tlearn: 0.0117838\ttotal: 48.1s\tremaining: 54.3s\n",
            "470:\tlearn: 0.0117607\ttotal: 48.2s\tremaining: 54.2s\n",
            "471:\tlearn: 0.0117601\ttotal: 48.3s\tremaining: 54.1s\n",
            "472:\tlearn: 0.0117588\ttotal: 48.4s\tremaining: 54s\n",
            "473:\tlearn: 0.0117523\ttotal: 48.5s\tremaining: 53.9s\n",
            "474:\tlearn: 0.0117512\ttotal: 48.6s\tremaining: 53.8s\n",
            "475:\tlearn: 0.0117501\ttotal: 48.8s\tremaining: 53.7s\n",
            "476:\tlearn: 0.0117440\ttotal: 48.8s\tremaining: 53.6s\n",
            "477:\tlearn: 0.0117438\ttotal: 48.9s\tremaining: 53.5s\n",
            "478:\tlearn: 0.0117338\ttotal: 49.1s\tremaining: 53.4s\n",
            "479:\tlearn: 0.0117333\ttotal: 49.1s\tremaining: 53.2s\n",
            "480:\tlearn: 0.0117332\ttotal: 49.2s\tremaining: 53.1s\n",
            "481:\tlearn: 0.0117109\ttotal: 49.3s\tremaining: 53s\n",
            "482:\tlearn: 0.0116771\ttotal: 49.4s\tremaining: 52.9s\n",
            "483:\tlearn: 0.0116754\ttotal: 49.5s\tremaining: 52.8s\n",
            "484:\tlearn: 0.0116754\ttotal: 49.7s\tremaining: 52.7s\n",
            "485:\tlearn: 0.0116250\ttotal: 49.8s\tremaining: 52.6s\n",
            "486:\tlearn: 0.0116250\ttotal: 49.9s\tremaining: 52.5s\n",
            "487:\tlearn: 0.0115519\ttotal: 50s\tremaining: 52.4s\n",
            "488:\tlearn: 0.0115267\ttotal: 50.1s\tremaining: 52.3s\n",
            "489:\tlearn: 0.0115247\ttotal: 50.2s\tremaining: 52.2s\n",
            "490:\tlearn: 0.0115245\ttotal: 50.3s\tremaining: 52.1s\n",
            "491:\tlearn: 0.0114175\ttotal: 50.4s\tremaining: 52s\n",
            "492:\tlearn: 0.0114174\ttotal: 50.5s\tremaining: 51.9s\n",
            "493:\tlearn: 0.0114173\ttotal: 50.6s\tremaining: 51.8s\n",
            "494:\tlearn: 0.0114153\ttotal: 50.7s\tremaining: 51.7s\n",
            "495:\tlearn: 0.0114150\ttotal: 50.8s\tremaining: 51.6s\n",
            "496:\tlearn: 0.0114145\ttotal: 50.9s\tremaining: 51.5s\n",
            "497:\tlearn: 0.0114143\ttotal: 51s\tremaining: 51.4s\n",
            "498:\tlearn: 0.0114141\ttotal: 51.1s\tremaining: 51.3s\n",
            "499:\tlearn: 0.0114119\ttotal: 51.2s\tremaining: 51.2s\n",
            "500:\tlearn: 0.0114119\ttotal: 51.3s\tremaining: 51.1s\n",
            "501:\tlearn: 0.0114114\ttotal: 51.4s\tremaining: 51s\n",
            "502:\tlearn: 0.0114110\ttotal: 51.5s\tremaining: 50.9s\n",
            "503:\tlearn: 0.0114109\ttotal: 51.6s\tremaining: 50.8s\n",
            "504:\tlearn: 0.0114098\ttotal: 51.7s\tremaining: 50.7s\n",
            "505:\tlearn: 0.0114098\ttotal: 51.8s\tremaining: 50.6s\n",
            "506:\tlearn: 0.0114092\ttotal: 51.9s\tremaining: 50.5s\n",
            "507:\tlearn: 0.0113904\ttotal: 52.1s\tremaining: 50.4s\n",
            "508:\tlearn: 0.0113888\ttotal: 52.2s\tremaining: 50.3s\n",
            "509:\tlearn: 0.0113888\ttotal: 52.3s\tremaining: 50.2s\n",
            "510:\tlearn: 0.0112402\ttotal: 52.4s\tremaining: 50.1s\n",
            "511:\tlearn: 0.0112400\ttotal: 52.5s\tremaining: 50s\n",
            "512:\tlearn: 0.0112399\ttotal: 52.6s\tremaining: 49.9s\n",
            "513:\tlearn: 0.0112398\ttotal: 52.7s\tremaining: 49.8s\n",
            "514:\tlearn: 0.0112391\ttotal: 52.8s\tremaining: 49.7s\n",
            "515:\tlearn: 0.0112384\ttotal: 52.9s\tremaining: 49.6s\n",
            "516:\tlearn: 0.0112103\ttotal: 53s\tremaining: 49.5s\n",
            "517:\tlearn: 0.0112102\ttotal: 53.1s\tremaining: 49.4s\n",
            "518:\tlearn: 0.0112086\ttotal: 53.2s\tremaining: 49.3s\n",
            "519:\tlearn: 0.0112086\ttotal: 53.3s\tremaining: 49.2s\n",
            "520:\tlearn: 0.0112075\ttotal: 53.4s\tremaining: 49.1s\n",
            "521:\tlearn: 0.0112075\ttotal: 53.5s\tremaining: 49s\n",
            "522:\tlearn: 0.0111698\ttotal: 53.6s\tremaining: 48.9s\n",
            "523:\tlearn: 0.0111696\ttotal: 53.7s\tremaining: 48.8s\n",
            "524:\tlearn: 0.0111694\ttotal: 53.8s\tremaining: 48.6s\n",
            "525:\tlearn: 0.0111675\ttotal: 53.9s\tremaining: 48.5s\n",
            "526:\tlearn: 0.0111427\ttotal: 54s\tremaining: 48.4s\n",
            "527:\tlearn: 0.0111426\ttotal: 54.1s\tremaining: 48.3s\n",
            "528:\tlearn: 0.0111012\ttotal: 54.2s\tremaining: 48.2s\n",
            "529:\tlearn: 0.0111012\ttotal: 54.3s\tremaining: 48.1s\n",
            "530:\tlearn: 0.0111011\ttotal: 54.4s\tremaining: 48s\n",
            "531:\tlearn: 0.0110919\ttotal: 54.5s\tremaining: 47.9s\n",
            "532:\tlearn: 0.0110918\ttotal: 54.6s\tremaining: 47.8s\n",
            "533:\tlearn: 0.0110918\ttotal: 54.7s\tremaining: 47.7s\n",
            "534:\tlearn: 0.0110837\ttotal: 54.8s\tremaining: 47.6s\n",
            "535:\tlearn: 0.0110779\ttotal: 54.9s\tremaining: 47.5s\n",
            "536:\tlearn: 0.0110778\ttotal: 55s\tremaining: 47.4s\n",
            "537:\tlearn: 0.0110769\ttotal: 55.1s\tremaining: 47.3s\n",
            "538:\tlearn: 0.0109547\ttotal: 55.2s\tremaining: 47.2s\n",
            "539:\tlearn: 0.0109194\ttotal: 55.3s\tremaining: 47.1s\n",
            "540:\tlearn: 0.0109193\ttotal: 55.4s\tremaining: 47s\n",
            "541:\tlearn: 0.0108901\ttotal: 55.5s\tremaining: 46.9s\n",
            "542:\tlearn: 0.0108895\ttotal: 55.6s\tremaining: 46.8s\n",
            "543:\tlearn: 0.0108877\ttotal: 55.7s\tremaining: 46.7s\n",
            "544:\tlearn: 0.0108871\ttotal: 55.8s\tremaining: 46.6s\n",
            "545:\tlearn: 0.0108864\ttotal: 55.9s\tremaining: 46.5s\n",
            "546:\tlearn: 0.0108697\ttotal: 56s\tremaining: 46.4s\n",
            "547:\tlearn: 0.0108697\ttotal: 56.1s\tremaining: 46.3s\n",
            "548:\tlearn: 0.0108301\ttotal: 56.2s\tremaining: 46.2s\n",
            "549:\tlearn: 0.0108300\ttotal: 56.3s\tremaining: 46.1s\n",
            "550:\tlearn: 0.0108193\ttotal: 56.4s\tremaining: 46s\n",
            "551:\tlearn: 0.0108192\ttotal: 56.5s\tremaining: 45.9s\n",
            "552:\tlearn: 0.0108191\ttotal: 56.6s\tremaining: 45.8s\n",
            "553:\tlearn: 0.0108191\ttotal: 56.7s\tremaining: 45.7s\n",
            "554:\tlearn: 0.0106924\ttotal: 56.8s\tremaining: 45.6s\n",
            "555:\tlearn: 0.0106896\ttotal: 56.9s\tremaining: 45.5s\n",
            "556:\tlearn: 0.0106320\ttotal: 57s\tremaining: 45.4s\n",
            "557:\tlearn: 0.0106317\ttotal: 57.1s\tremaining: 45.3s\n",
            "558:\tlearn: 0.0106041\ttotal: 57.2s\tremaining: 45.2s\n",
            "559:\tlearn: 0.0106027\ttotal: 57.3s\tremaining: 45.1s\n",
            "560:\tlearn: 0.0106019\ttotal: 57.4s\tremaining: 45s\n",
            "561:\tlearn: 0.0105303\ttotal: 57.5s\tremaining: 44.9s\n",
            "562:\tlearn: 0.0105301\ttotal: 57.6s\tremaining: 44.7s\n",
            "563:\tlearn: 0.0104974\ttotal: 57.8s\tremaining: 44.6s\n",
            "564:\tlearn: 0.0104914\ttotal: 57.9s\tremaining: 44.5s\n",
            "565:\tlearn: 0.0104913\ttotal: 58s\tremaining: 44.4s\n",
            "566:\tlearn: 0.0104604\ttotal: 58.1s\tremaining: 44.3s\n",
            "567:\tlearn: 0.0104064\ttotal: 58.1s\tremaining: 44.2s\n",
            "568:\tlearn: 0.0103965\ttotal: 58.3s\tremaining: 44.1s\n",
            "569:\tlearn: 0.0103568\ttotal: 58.4s\tremaining: 44s\n",
            "570:\tlearn: 0.0103566\ttotal: 58.5s\tremaining: 43.9s\n",
            "571:\tlearn: 0.0103149\ttotal: 58.6s\tremaining: 43.8s\n",
            "572:\tlearn: 0.0103147\ttotal: 58.7s\tremaining: 43.7s\n",
            "573:\tlearn: 0.0103141\ttotal: 58.8s\tremaining: 43.6s\n",
            "574:\tlearn: 0.0103132\ttotal: 58.9s\tremaining: 43.5s\n",
            "575:\tlearn: 0.0102793\ttotal: 59s\tremaining: 43.4s\n",
            "576:\tlearn: 0.0102777\ttotal: 59.1s\tremaining: 43.3s\n",
            "577:\tlearn: 0.0102771\ttotal: 59.2s\tremaining: 43.2s\n",
            "578:\tlearn: 0.0102769\ttotal: 59.3s\tremaining: 43.1s\n",
            "579:\tlearn: 0.0102174\ttotal: 59.4s\tremaining: 43s\n",
            "580:\tlearn: 0.0102042\ttotal: 59.5s\tremaining: 42.9s\n",
            "581:\tlearn: 0.0102042\ttotal: 59.6s\tremaining: 42.8s\n",
            "582:\tlearn: 0.0102031\ttotal: 59.7s\tremaining: 42.7s\n",
            "583:\tlearn: 0.0101763\ttotal: 59.8s\tremaining: 42.6s\n",
            "584:\tlearn: 0.0101763\ttotal: 59.9s\tremaining: 42.5s\n",
            "585:\tlearn: 0.0101560\ttotal: 60s\tremaining: 42.4s\n",
            "586:\tlearn: 0.0101558\ttotal: 1m\tremaining: 42.3s\n",
            "587:\tlearn: 0.0101408\ttotal: 1m\tremaining: 42.2s\n",
            "588:\tlearn: 0.0101404\ttotal: 1m\tremaining: 42.1s\n",
            "589:\tlearn: 0.0101402\ttotal: 1m\tremaining: 42s\n",
            "590:\tlearn: 0.0101400\ttotal: 1m\tremaining: 41.9s\n",
            "591:\tlearn: 0.0101395\ttotal: 1m\tremaining: 41.8s\n",
            "592:\tlearn: 0.0101392\ttotal: 1m\tremaining: 41.7s\n",
            "593:\tlearn: 0.0101391\ttotal: 1m\tremaining: 41.6s\n",
            "594:\tlearn: 0.0101390\ttotal: 1m\tremaining: 41.5s\n",
            "595:\tlearn: 0.0101386\ttotal: 1m 1s\tremaining: 41.4s\n",
            "596:\tlearn: 0.0101280\ttotal: 1m 1s\tremaining: 41.2s\n",
            "597:\tlearn: 0.0101280\ttotal: 1m 1s\tremaining: 41.1s\n",
            "598:\tlearn: 0.0100964\ttotal: 1m 1s\tremaining: 41s\n",
            "599:\tlearn: 0.0100964\ttotal: 1m 1s\tremaining: 40.9s\n",
            "600:\tlearn: 0.0100952\ttotal: 1m 1s\tremaining: 40.8s\n",
            "601:\tlearn: 0.0100951\ttotal: 1m 1s\tremaining: 40.7s\n",
            "602:\tlearn: 0.0100232\ttotal: 1m 1s\tremaining: 40.6s\n",
            "603:\tlearn: 0.0100232\ttotal: 1m 1s\tremaining: 40.5s\n",
            "604:\tlearn: 0.0100194\ttotal: 1m 1s\tremaining: 40.4s\n",
            "605:\tlearn: 0.0100013\ttotal: 1m 2s\tremaining: 40.3s\n",
            "606:\tlearn: 0.0100013\ttotal: 1m 2s\tremaining: 40.2s\n",
            "607:\tlearn: 0.0100012\ttotal: 1m 2s\tremaining: 40.1s\n",
            "608:\tlearn: 0.0099967\ttotal: 1m 2s\tremaining: 40s\n",
            "609:\tlearn: 0.0099966\ttotal: 1m 2s\tremaining: 39.9s\n",
            "610:\tlearn: 0.0099963\ttotal: 1m 2s\tremaining: 39.8s\n",
            "611:\tlearn: 0.0099278\ttotal: 1m 2s\tremaining: 39.7s\n",
            "612:\tlearn: 0.0099274\ttotal: 1m 2s\tremaining: 39.6s\n",
            "613:\tlearn: 0.0099100\ttotal: 1m 2s\tremaining: 39.5s\n",
            "614:\tlearn: 0.0098940\ttotal: 1m 2s\tremaining: 39.4s\n",
            "615:\tlearn: 0.0098937\ttotal: 1m 3s\tremaining: 39.3s\n",
            "616:\tlearn: 0.0097994\ttotal: 1m 3s\tremaining: 39.2s\n",
            "617:\tlearn: 0.0097994\ttotal: 1m 3s\tremaining: 39.1s\n",
            "618:\tlearn: 0.0097992\ttotal: 1m 3s\tremaining: 39s\n",
            "619:\tlearn: 0.0097982\ttotal: 1m 3s\tremaining: 38.9s\n",
            "620:\tlearn: 0.0097978\ttotal: 1m 3s\tremaining: 38.8s\n",
            "621:\tlearn: 0.0097963\ttotal: 1m 3s\tremaining: 38.7s\n",
            "622:\tlearn: 0.0097958\ttotal: 1m 3s\tremaining: 38.5s\n",
            "623:\tlearn: 0.0097951\ttotal: 1m 3s\tremaining: 38.4s\n",
            "624:\tlearn: 0.0097951\ttotal: 1m 3s\tremaining: 38.3s\n",
            "625:\tlearn: 0.0097951\ttotal: 1m 4s\tremaining: 38.2s\n",
            "626:\tlearn: 0.0097931\ttotal: 1m 4s\tremaining: 38.1s\n",
            "627:\tlearn: 0.0097929\ttotal: 1m 4s\tremaining: 38s\n",
            "628:\tlearn: 0.0097925\ttotal: 1m 4s\tremaining: 37.9s\n",
            "629:\tlearn: 0.0097758\ttotal: 1m 4s\tremaining: 37.8s\n",
            "630:\tlearn: 0.0097746\ttotal: 1m 4s\tremaining: 37.7s\n",
            "631:\tlearn: 0.0097691\ttotal: 1m 4s\tremaining: 37.6s\n",
            "632:\tlearn: 0.0097678\ttotal: 1m 4s\tremaining: 37.5s\n",
            "633:\tlearn: 0.0097677\ttotal: 1m 4s\tremaining: 37.4s\n",
            "634:\tlearn: 0.0097675\ttotal: 1m 4s\tremaining: 37.3s\n",
            "635:\tlearn: 0.0097230\ttotal: 1m 5s\tremaining: 37.2s\n",
            "636:\tlearn: 0.0097229\ttotal: 1m 5s\tremaining: 37.1s\n",
            "637:\tlearn: 0.0097219\ttotal: 1m 5s\tremaining: 37s\n",
            "638:\tlearn: 0.0096949\ttotal: 1m 5s\tremaining: 36.9s\n",
            "639:\tlearn: 0.0096756\ttotal: 1m 5s\tremaining: 36.8s\n",
            "640:\tlearn: 0.0096754\ttotal: 1m 5s\tremaining: 36.7s\n",
            "641:\tlearn: 0.0096754\ttotal: 1m 5s\tremaining: 36.6s\n",
            "642:\tlearn: 0.0096747\ttotal: 1m 5s\tremaining: 36.5s\n",
            "643:\tlearn: 0.0096718\ttotal: 1m 5s\tremaining: 36.4s\n",
            "644:\tlearn: 0.0096717\ttotal: 1m 5s\tremaining: 36.3s\n",
            "645:\tlearn: 0.0096488\ttotal: 1m 6s\tremaining: 36.2s\n",
            "646:\tlearn: 0.0096483\ttotal: 1m 6s\tremaining: 36.1s\n",
            "647:\tlearn: 0.0096482\ttotal: 1m 6s\tremaining: 36s\n",
            "648:\tlearn: 0.0096478\ttotal: 1m 6s\tremaining: 35.9s\n",
            "649:\tlearn: 0.0096238\ttotal: 1m 6s\tremaining: 35.8s\n",
            "650:\tlearn: 0.0096238\ttotal: 1m 6s\tremaining: 35.7s\n",
            "651:\tlearn: 0.0096236\ttotal: 1m 6s\tremaining: 35.6s\n",
            "652:\tlearn: 0.0096232\ttotal: 1m 6s\tremaining: 35.5s\n",
            "653:\tlearn: 0.0096231\ttotal: 1m 6s\tremaining: 35.4s\n",
            "654:\tlearn: 0.0096228\ttotal: 1m 6s\tremaining: 35.3s\n",
            "655:\tlearn: 0.0096226\ttotal: 1m 7s\tremaining: 35.2s\n",
            "656:\tlearn: 0.0096226\ttotal: 1m 7s\tremaining: 35.1s\n",
            "657:\tlearn: 0.0096225\ttotal: 1m 7s\tremaining: 34.9s\n",
            "658:\tlearn: 0.0096219\ttotal: 1m 7s\tremaining: 34.8s\n",
            "659:\tlearn: 0.0096098\ttotal: 1m 7s\tremaining: 34.7s\n",
            "660:\tlearn: 0.0096098\ttotal: 1m 7s\tremaining: 34.6s\n",
            "661:\tlearn: 0.0096095\ttotal: 1m 7s\tremaining: 34.5s\n",
            "662:\tlearn: 0.0095796\ttotal: 1m 7s\tremaining: 34.4s\n",
            "663:\tlearn: 0.0095370\ttotal: 1m 7s\tremaining: 34.3s\n",
            "664:\tlearn: 0.0095367\ttotal: 1m 7s\tremaining: 34.2s\n",
            "665:\tlearn: 0.0094927\ttotal: 1m 8s\tremaining: 34.1s\n",
            "666:\tlearn: 0.0094922\ttotal: 1m 8s\tremaining: 34s\n",
            "667:\tlearn: 0.0094917\ttotal: 1m 8s\tremaining: 33.9s\n",
            "668:\tlearn: 0.0094915\ttotal: 1m 8s\tremaining: 33.8s\n",
            "669:\tlearn: 0.0094849\ttotal: 1m 8s\tremaining: 33.7s\n",
            "670:\tlearn: 0.0094794\ttotal: 1m 8s\tremaining: 33.6s\n",
            "671:\tlearn: 0.0094769\ttotal: 1m 8s\tremaining: 33.5s\n",
            "672:\tlearn: 0.0094769\ttotal: 1m 8s\tremaining: 33.4s\n",
            "673:\tlearn: 0.0094768\ttotal: 1m 8s\tremaining: 33.3s\n",
            "674:\tlearn: 0.0094768\ttotal: 1m 8s\tremaining: 33.2s\n",
            "675:\tlearn: 0.0094768\ttotal: 1m 9s\tremaining: 33.1s\n",
            "676:\tlearn: 0.0094767\ttotal: 1m 9s\tremaining: 33s\n",
            "677:\tlearn: 0.0094767\ttotal: 1m 9s\tremaining: 32.9s\n",
            "678:\tlearn: 0.0094767\ttotal: 1m 9s\tremaining: 32.8s\n",
            "679:\tlearn: 0.0094765\ttotal: 1m 9s\tremaining: 32.7s\n",
            "680:\tlearn: 0.0094765\ttotal: 1m 9s\tremaining: 32.6s\n",
            "681:\tlearn: 0.0094765\ttotal: 1m 9s\tremaining: 32.5s\n",
            "682:\tlearn: 0.0094764\ttotal: 1m 9s\tremaining: 32.4s\n",
            "683:\tlearn: 0.0094763\ttotal: 1m 9s\tremaining: 32.3s\n",
            "684:\tlearn: 0.0094756\ttotal: 1m 9s\tremaining: 32.2s\n",
            "685:\tlearn: 0.0094677\ttotal: 1m 10s\tremaining: 32.1s\n",
            "686:\tlearn: 0.0094614\ttotal: 1m 10s\tremaining: 32s\n",
            "687:\tlearn: 0.0094596\ttotal: 1m 10s\tremaining: 31.9s\n",
            "688:\tlearn: 0.0094596\ttotal: 1m 10s\tremaining: 31.8s\n",
            "689:\tlearn: 0.0094581\ttotal: 1m 10s\tremaining: 31.7s\n",
            "690:\tlearn: 0.0094409\ttotal: 1m 10s\tremaining: 31.6s\n",
            "691:\tlearn: 0.0094409\ttotal: 1m 10s\tremaining: 31.5s\n",
            "692:\tlearn: 0.0093990\ttotal: 1m 10s\tremaining: 31.4s\n",
            "693:\tlearn: 0.0093987\ttotal: 1m 10s\tremaining: 31.3s\n",
            "694:\tlearn: 0.0093986\ttotal: 1m 11s\tremaining: 31.2s\n",
            "695:\tlearn: 0.0093982\ttotal: 1m 11s\tremaining: 31.1s\n",
            "696:\tlearn: 0.0093981\ttotal: 1m 11s\tremaining: 31s\n",
            "697:\tlearn: 0.0093957\ttotal: 1m 11s\tremaining: 30.9s\n",
            "698:\tlearn: 0.0093957\ttotal: 1m 11s\tremaining: 30.8s\n",
            "699:\tlearn: 0.0093957\ttotal: 1m 11s\tremaining: 30.6s\n",
            "700:\tlearn: 0.0093950\ttotal: 1m 11s\tremaining: 30.5s\n",
            "701:\tlearn: 0.0093376\ttotal: 1m 11s\tremaining: 30.4s\n",
            "702:\tlearn: 0.0093375\ttotal: 1m 11s\tremaining: 30.3s\n",
            "703:\tlearn: 0.0092914\ttotal: 1m 11s\tremaining: 30.2s\n",
            "704:\tlearn: 0.0092880\ttotal: 1m 12s\tremaining: 30.1s\n",
            "705:\tlearn: 0.0092828\ttotal: 1m 12s\tremaining: 30s\n",
            "706:\tlearn: 0.0092827\ttotal: 1m 12s\tremaining: 29.9s\n",
            "707:\tlearn: 0.0092824\ttotal: 1m 12s\tremaining: 29.8s\n",
            "708:\tlearn: 0.0092819\ttotal: 1m 12s\tremaining: 29.7s\n",
            "709:\tlearn: 0.0092819\ttotal: 1m 12s\tremaining: 29.6s\n",
            "710:\tlearn: 0.0092807\ttotal: 1m 12s\tremaining: 29.5s\n",
            "711:\tlearn: 0.0092801\ttotal: 1m 12s\tremaining: 29.4s\n",
            "712:\tlearn: 0.0092793\ttotal: 1m 12s\tremaining: 29.3s\n",
            "713:\tlearn: 0.0092779\ttotal: 1m 12s\tremaining: 29.2s\n",
            "714:\tlearn: 0.0092776\ttotal: 1m 13s\tremaining: 29.1s\n",
            "715:\tlearn: 0.0092775\ttotal: 1m 13s\tremaining: 29s\n",
            "716:\tlearn: 0.0092766\ttotal: 1m 13s\tremaining: 28.9s\n",
            "717:\tlearn: 0.0092755\ttotal: 1m 13s\tremaining: 28.8s\n",
            "718:\tlearn: 0.0092750\ttotal: 1m 13s\tremaining: 28.7s\n",
            "719:\tlearn: 0.0092739\ttotal: 1m 13s\tremaining: 28.6s\n",
            "720:\tlearn: 0.0092739\ttotal: 1m 13s\tremaining: 28.5s\n",
            "721:\tlearn: 0.0092578\ttotal: 1m 13s\tremaining: 28.4s\n",
            "722:\tlearn: 0.0092578\ttotal: 1m 13s\tremaining: 28.3s\n",
            "723:\tlearn: 0.0091424\ttotal: 1m 13s\tremaining: 28.2s\n",
            "724:\tlearn: 0.0091424\ttotal: 1m 14s\tremaining: 28.1s\n",
            "725:\tlearn: 0.0090815\ttotal: 1m 14s\tremaining: 28s\n",
            "726:\tlearn: 0.0090815\ttotal: 1m 14s\tremaining: 27.9s\n",
            "727:\tlearn: 0.0090465\ttotal: 1m 14s\tremaining: 27.8s\n",
            "728:\tlearn: 0.0090450\ttotal: 1m 14s\tremaining: 27.7s\n",
            "729:\tlearn: 0.0090450\ttotal: 1m 14s\tremaining: 27.6s\n",
            "730:\tlearn: 0.0090449\ttotal: 1m 14s\tremaining: 27.5s\n",
            "731:\tlearn: 0.0090441\ttotal: 1m 14s\tremaining: 27.4s\n",
            "732:\tlearn: 0.0090440\ttotal: 1m 14s\tremaining: 27.3s\n",
            "733:\tlearn: 0.0090223\ttotal: 1m 15s\tremaining: 27.2s\n",
            "734:\tlearn: 0.0090223\ttotal: 1m 15s\tremaining: 27.1s\n",
            "735:\tlearn: 0.0090222\ttotal: 1m 15s\tremaining: 27s\n",
            "736:\tlearn: 0.0090221\ttotal: 1m 15s\tremaining: 26.9s\n",
            "737:\tlearn: 0.0090216\ttotal: 1m 15s\tremaining: 26.8s\n",
            "738:\tlearn: 0.0089838\ttotal: 1m 15s\tremaining: 26.7s\n",
            "739:\tlearn: 0.0089837\ttotal: 1m 15s\tremaining: 26.6s\n",
            "740:\tlearn: 0.0089835\ttotal: 1m 15s\tremaining: 26.5s\n",
            "741:\tlearn: 0.0089829\ttotal: 1m 15s\tremaining: 26.4s\n",
            "742:\tlearn: 0.0089825\ttotal: 1m 15s\tremaining: 26.3s\n",
            "743:\tlearn: 0.0089825\ttotal: 1m 16s\tremaining: 26.2s\n",
            "744:\tlearn: 0.0089821\ttotal: 1m 16s\tremaining: 26.1s\n",
            "745:\tlearn: 0.0089813\ttotal: 1m 16s\tremaining: 26s\n",
            "746:\tlearn: 0.0089812\ttotal: 1m 16s\tremaining: 25.9s\n",
            "747:\tlearn: 0.0089660\ttotal: 1m 16s\tremaining: 25.8s\n",
            "748:\tlearn: 0.0089606\ttotal: 1m 16s\tremaining: 25.7s\n",
            "749:\tlearn: 0.0089606\ttotal: 1m 16s\tremaining: 25.6s\n",
            "750:\tlearn: 0.0089605\ttotal: 1m 16s\tremaining: 25.5s\n",
            "751:\tlearn: 0.0089605\ttotal: 1m 16s\tremaining: 25.4s\n",
            "752:\tlearn: 0.0089276\ttotal: 1m 17s\tremaining: 25.3s\n",
            "753:\tlearn: 0.0089275\ttotal: 1m 17s\tremaining: 25.2s\n",
            "754:\tlearn: 0.0089274\ttotal: 1m 17s\tremaining: 25.1s\n",
            "755:\tlearn: 0.0089273\ttotal: 1m 17s\tremaining: 25s\n",
            "756:\tlearn: 0.0089272\ttotal: 1m 17s\tremaining: 24.9s\n",
            "757:\tlearn: 0.0089271\ttotal: 1m 17s\tremaining: 24.8s\n",
            "758:\tlearn: 0.0089271\ttotal: 1m 17s\tremaining: 24.6s\n",
            "759:\tlearn: 0.0089270\ttotal: 1m 17s\tremaining: 24.5s\n",
            "760:\tlearn: 0.0089269\ttotal: 1m 17s\tremaining: 24.4s\n",
            "761:\tlearn: 0.0089268\ttotal: 1m 17s\tremaining: 24.3s\n",
            "762:\tlearn: 0.0089268\ttotal: 1m 18s\tremaining: 24.2s\n",
            "763:\tlearn: 0.0089264\ttotal: 1m 18s\tremaining: 24.1s\n",
            "764:\tlearn: 0.0089257\ttotal: 1m 18s\tremaining: 24s\n",
            "765:\tlearn: 0.0089247\ttotal: 1m 18s\tremaining: 23.9s\n",
            "766:\tlearn: 0.0089245\ttotal: 1m 18s\tremaining: 23.8s\n",
            "767:\tlearn: 0.0089244\ttotal: 1m 18s\tremaining: 23.7s\n",
            "768:\tlearn: 0.0089049\ttotal: 1m 18s\tremaining: 23.6s\n",
            "769:\tlearn: 0.0089030\ttotal: 1m 18s\tremaining: 23.5s\n",
            "770:\tlearn: 0.0088943\ttotal: 1m 18s\tremaining: 23.4s\n",
            "771:\tlearn: 0.0088940\ttotal: 1m 18s\tremaining: 23.3s\n",
            "772:\tlearn: 0.0088940\ttotal: 1m 19s\tremaining: 23.2s\n",
            "773:\tlearn: 0.0088754\ttotal: 1m 19s\tremaining: 23.1s\n",
            "774:\tlearn: 0.0088754\ttotal: 1m 19s\tremaining: 23s\n",
            "775:\tlearn: 0.0088599\ttotal: 1m 19s\tremaining: 22.9s\n",
            "776:\tlearn: 0.0088596\ttotal: 1m 19s\tremaining: 22.8s\n",
            "777:\tlearn: 0.0088595\ttotal: 1m 19s\tremaining: 22.7s\n",
            "778:\tlearn: 0.0088594\ttotal: 1m 19s\tremaining: 22.6s\n",
            "779:\tlearn: 0.0088475\ttotal: 1m 19s\tremaining: 22.5s\n",
            "780:\tlearn: 0.0088473\ttotal: 1m 19s\tremaining: 22.4s\n",
            "781:\tlearn: 0.0088132\ttotal: 1m 19s\tremaining: 22.3s\n",
            "782:\tlearn: 0.0088129\ttotal: 1m 20s\tremaining: 22.2s\n",
            "783:\tlearn: 0.0088129\ttotal: 1m 20s\tremaining: 22.1s\n",
            "784:\tlearn: 0.0088044\ttotal: 1m 20s\tremaining: 22s\n",
            "785:\tlearn: 0.0088043\ttotal: 1m 20s\tremaining: 21.9s\n",
            "786:\tlearn: 0.0088043\ttotal: 1m 20s\tremaining: 21.8s\n",
            "787:\tlearn: 0.0088043\ttotal: 1m 20s\tremaining: 21.7s\n",
            "788:\tlearn: 0.0088043\ttotal: 1m 20s\tremaining: 21.6s\n",
            "789:\tlearn: 0.0088042\ttotal: 1m 20s\tremaining: 21.5s\n",
            "790:\tlearn: 0.0088040\ttotal: 1m 20s\tremaining: 21.4s\n",
            "791:\tlearn: 0.0088039\ttotal: 1m 21s\tremaining: 21.3s\n",
            "792:\tlearn: 0.0088039\ttotal: 1m 21s\tremaining: 21.2s\n",
            "793:\tlearn: 0.0087744\ttotal: 1m 21s\tremaining: 21.1s\n",
            "794:\tlearn: 0.0087742\ttotal: 1m 21s\tremaining: 21s\n",
            "795:\tlearn: 0.0087662\ttotal: 1m 21s\tremaining: 20.9s\n",
            "796:\tlearn: 0.0087661\ttotal: 1m 21s\tremaining: 20.8s\n",
            "797:\tlearn: 0.0087661\ttotal: 1m 21s\tremaining: 20.7s\n",
            "798:\tlearn: 0.0087660\ttotal: 1m 21s\tremaining: 20.6s\n",
            "799:\tlearn: 0.0087654\ttotal: 1m 21s\tremaining: 20.5s\n",
            "800:\tlearn: 0.0087653\ttotal: 1m 21s\tremaining: 20.4s\n",
            "801:\tlearn: 0.0087643\ttotal: 1m 22s\tremaining: 20.3s\n",
            "802:\tlearn: 0.0087643\ttotal: 1m 22s\tremaining: 20.2s\n",
            "803:\tlearn: 0.0087642\ttotal: 1m 22s\tremaining: 20.1s\n",
            "804:\tlearn: 0.0087642\ttotal: 1m 22s\tremaining: 20s\n",
            "805:\tlearn: 0.0087640\ttotal: 1m 22s\tremaining: 19.9s\n",
            "806:\tlearn: 0.0087639\ttotal: 1m 22s\tremaining: 19.8s\n",
            "807:\tlearn: 0.0087636\ttotal: 1m 22s\tremaining: 19.7s\n",
            "808:\tlearn: 0.0087636\ttotal: 1m 22s\tremaining: 19.6s\n",
            "809:\tlearn: 0.0087636\ttotal: 1m 22s\tremaining: 19.5s\n",
            "810:\tlearn: 0.0087636\ttotal: 1m 23s\tremaining: 19.3s\n",
            "811:\tlearn: 0.0087635\ttotal: 1m 23s\tremaining: 19.2s\n",
            "812:\tlearn: 0.0087629\ttotal: 1m 23s\tremaining: 19.1s\n",
            "813:\tlearn: 0.0087628\ttotal: 1m 23s\tremaining: 19s\n",
            "814:\tlearn: 0.0087626\ttotal: 1m 23s\tremaining: 18.9s\n",
            "815:\tlearn: 0.0087626\ttotal: 1m 23s\tremaining: 18.8s\n",
            "816:\tlearn: 0.0087620\ttotal: 1m 23s\tremaining: 18.7s\n",
            "817:\tlearn: 0.0087618\ttotal: 1m 23s\tremaining: 18.6s\n",
            "818:\tlearn: 0.0086974\ttotal: 1m 23s\tremaining: 18.5s\n",
            "819:\tlearn: 0.0086974\ttotal: 1m 23s\tremaining: 18.4s\n",
            "820:\tlearn: 0.0086972\ttotal: 1m 24s\tremaining: 18.3s\n",
            "821:\tlearn: 0.0086964\ttotal: 1m 24s\tremaining: 18.2s\n",
            "822:\tlearn: 0.0086958\ttotal: 1m 24s\tremaining: 18.1s\n",
            "823:\tlearn: 0.0086656\ttotal: 1m 24s\tremaining: 18s\n",
            "824:\tlearn: 0.0086656\ttotal: 1m 24s\tremaining: 17.9s\n",
            "825:\tlearn: 0.0086655\ttotal: 1m 24s\tremaining: 17.8s\n",
            "826:\tlearn: 0.0086654\ttotal: 1m 24s\tremaining: 17.7s\n",
            "827:\tlearn: 0.0086643\ttotal: 1m 24s\tremaining: 17.6s\n",
            "828:\tlearn: 0.0086642\ttotal: 1m 24s\tremaining: 17.5s\n",
            "829:\tlearn: 0.0086494\ttotal: 1m 25s\tremaining: 17.4s\n",
            "830:\tlearn: 0.0086492\ttotal: 1m 25s\tremaining: 17.3s\n",
            "831:\tlearn: 0.0086489\ttotal: 1m 25s\tremaining: 17.2s\n",
            "832:\tlearn: 0.0086488\ttotal: 1m 25s\tremaining: 17.1s\n",
            "833:\tlearn: 0.0086487\ttotal: 1m 25s\tremaining: 17s\n",
            "834:\tlearn: 0.0086486\ttotal: 1m 25s\tremaining: 16.9s\n",
            "835:\tlearn: 0.0086481\ttotal: 1m 25s\tremaining: 16.8s\n",
            "836:\tlearn: 0.0086481\ttotal: 1m 25s\tremaining: 16.7s\n",
            "837:\tlearn: 0.0086472\ttotal: 1m 25s\tremaining: 16.6s\n",
            "838:\tlearn: 0.0086471\ttotal: 1m 25s\tremaining: 16.5s\n",
            "839:\tlearn: 0.0086471\ttotal: 1m 26s\tremaining: 16.4s\n",
            "840:\tlearn: 0.0085781\ttotal: 1m 26s\tremaining: 16.3s\n",
            "841:\tlearn: 0.0085682\ttotal: 1m 26s\tremaining: 16.2s\n",
            "842:\tlearn: 0.0085682\ttotal: 1m 26s\tremaining: 16.1s\n",
            "843:\tlearn: 0.0085674\ttotal: 1m 26s\tremaining: 16s\n",
            "844:\tlearn: 0.0085671\ttotal: 1m 26s\tremaining: 15.9s\n",
            "845:\tlearn: 0.0085669\ttotal: 1m 26s\tremaining: 15.8s\n",
            "846:\tlearn: 0.0085668\ttotal: 1m 26s\tremaining: 15.7s\n",
            "847:\tlearn: 0.0085664\ttotal: 1m 26s\tremaining: 15.6s\n",
            "848:\tlearn: 0.0085661\ttotal: 1m 27s\tremaining: 15.5s\n",
            "849:\tlearn: 0.0085660\ttotal: 1m 27s\tremaining: 15.4s\n",
            "850:\tlearn: 0.0085154\ttotal: 1m 27s\tremaining: 15.3s\n",
            "851:\tlearn: 0.0085153\ttotal: 1m 27s\tremaining: 15.2s\n",
            "852:\tlearn: 0.0085153\ttotal: 1m 27s\tremaining: 15.1s\n",
            "853:\tlearn: 0.0085150\ttotal: 1m 27s\tremaining: 15s\n",
            "854:\tlearn: 0.0085143\ttotal: 1m 27s\tremaining: 14.9s\n",
            "855:\tlearn: 0.0085010\ttotal: 1m 27s\tremaining: 14.8s\n",
            "856:\tlearn: 0.0085005\ttotal: 1m 27s\tremaining: 14.7s\n",
            "857:\tlearn: 0.0085004\ttotal: 1m 27s\tremaining: 14.6s\n",
            "858:\tlearn: 0.0085003\ttotal: 1m 28s\tremaining: 14.5s\n",
            "859:\tlearn: 0.0084996\ttotal: 1m 28s\tremaining: 14.4s\n",
            "860:\tlearn: 0.0084996\ttotal: 1m 28s\tremaining: 14.3s\n",
            "861:\tlearn: 0.0084996\ttotal: 1m 28s\tremaining: 14.2s\n",
            "862:\tlearn: 0.0084995\ttotal: 1m 28s\tremaining: 14.1s\n",
            "863:\tlearn: 0.0084994\ttotal: 1m 28s\tremaining: 13.9s\n",
            "864:\tlearn: 0.0084992\ttotal: 1m 28s\tremaining: 13.8s\n",
            "865:\tlearn: 0.0084935\ttotal: 1m 28s\tremaining: 13.7s\n",
            "866:\tlearn: 0.0084900\ttotal: 1m 28s\tremaining: 13.6s\n",
            "867:\tlearn: 0.0084899\ttotal: 1m 29s\tremaining: 13.5s\n",
            "868:\tlearn: 0.0083787\ttotal: 1m 29s\tremaining: 13.4s\n",
            "869:\tlearn: 0.0083787\ttotal: 1m 29s\tremaining: 13.3s\n",
            "870:\tlearn: 0.0083787\ttotal: 1m 29s\tremaining: 13.2s\n",
            "871:\tlearn: 0.0083785\ttotal: 1m 29s\tremaining: 13.1s\n",
            "872:\tlearn: 0.0083782\ttotal: 1m 29s\tremaining: 13s\n",
            "873:\tlearn: 0.0083781\ttotal: 1m 29s\tremaining: 12.9s\n",
            "874:\tlearn: 0.0083779\ttotal: 1m 29s\tremaining: 12.8s\n",
            "875:\tlearn: 0.0083771\ttotal: 1m 29s\tremaining: 12.7s\n",
            "876:\tlearn: 0.0083766\ttotal: 1m 29s\tremaining: 12.6s\n",
            "877:\tlearn: 0.0083765\ttotal: 1m 30s\tremaining: 12.5s\n",
            "878:\tlearn: 0.0083765\ttotal: 1m 30s\tremaining: 12.4s\n",
            "879:\tlearn: 0.0083763\ttotal: 1m 30s\tremaining: 12.3s\n",
            "880:\tlearn: 0.0083763\ttotal: 1m 30s\tremaining: 12.2s\n",
            "881:\tlearn: 0.0083592\ttotal: 1m 30s\tremaining: 12.1s\n",
            "882:\tlearn: 0.0083592\ttotal: 1m 30s\tremaining: 12s\n",
            "883:\tlearn: 0.0083086\ttotal: 1m 30s\tremaining: 11.9s\n",
            "884:\tlearn: 0.0083085\ttotal: 1m 30s\tremaining: 11.8s\n",
            "885:\tlearn: 0.0083085\ttotal: 1m 30s\tremaining: 11.7s\n",
            "886:\tlearn: 0.0083076\ttotal: 1m 31s\tremaining: 11.6s\n",
            "887:\tlearn: 0.0082927\ttotal: 1m 31s\tremaining: 11.5s\n",
            "888:\tlearn: 0.0082886\ttotal: 1m 31s\tremaining: 11.4s\n",
            "889:\tlearn: 0.0082882\ttotal: 1m 31s\tremaining: 11.3s\n",
            "890:\tlearn: 0.0082660\ttotal: 1m 31s\tremaining: 11.2s\n",
            "891:\tlearn: 0.0082640\ttotal: 1m 31s\tremaining: 11.1s\n",
            "892:\tlearn: 0.0082640\ttotal: 1m 31s\tremaining: 11s\n",
            "893:\tlearn: 0.0082636\ttotal: 1m 31s\tremaining: 10.9s\n",
            "894:\tlearn: 0.0082629\ttotal: 1m 31s\tremaining: 10.8s\n",
            "895:\tlearn: 0.0082033\ttotal: 1m 32s\tremaining: 10.7s\n",
            "896:\tlearn: 0.0082031\ttotal: 1m 32s\tremaining: 10.6s\n",
            "897:\tlearn: 0.0082025\ttotal: 1m 32s\tremaining: 10.5s\n",
            "898:\tlearn: 0.0082024\ttotal: 1m 32s\tremaining: 10.4s\n",
            "899:\tlearn: 0.0081984\ttotal: 1m 32s\tremaining: 10.3s\n",
            "900:\tlearn: 0.0081982\ttotal: 1m 32s\tremaining: 10.2s\n",
            "901:\tlearn: 0.0081978\ttotal: 1m 32s\tremaining: 10.1s\n",
            "902:\tlearn: 0.0081978\ttotal: 1m 32s\tremaining: 9.96s\n",
            "903:\tlearn: 0.0081969\ttotal: 1m 32s\tremaining: 9.86s\n",
            "904:\tlearn: 0.0081956\ttotal: 1m 32s\tremaining: 9.76s\n",
            "905:\tlearn: 0.0081951\ttotal: 1m 33s\tremaining: 9.65s\n",
            "906:\tlearn: 0.0081947\ttotal: 1m 33s\tremaining: 9.55s\n",
            "907:\tlearn: 0.0081944\ttotal: 1m 33s\tremaining: 9.45s\n",
            "908:\tlearn: 0.0081858\ttotal: 1m 33s\tremaining: 9.35s\n",
            "909:\tlearn: 0.0081854\ttotal: 1m 33s\tremaining: 9.24s\n",
            "910:\tlearn: 0.0081853\ttotal: 1m 33s\tremaining: 9.14s\n",
            "911:\tlearn: 0.0081679\ttotal: 1m 33s\tremaining: 9.04s\n",
            "912:\tlearn: 0.0081678\ttotal: 1m 33s\tremaining: 8.94s\n",
            "913:\tlearn: 0.0081664\ttotal: 1m 33s\tremaining: 8.83s\n",
            "914:\tlearn: 0.0081664\ttotal: 1m 33s\tremaining: 8.73s\n",
            "915:\tlearn: 0.0081609\ttotal: 1m 34s\tremaining: 8.63s\n",
            "916:\tlearn: 0.0081607\ttotal: 1m 34s\tremaining: 8.53s\n",
            "917:\tlearn: 0.0081606\ttotal: 1m 34s\tremaining: 8.42s\n",
            "918:\tlearn: 0.0081606\ttotal: 1m 34s\tremaining: 8.32s\n",
            "919:\tlearn: 0.0081520\ttotal: 1m 34s\tremaining: 8.22s\n",
            "920:\tlearn: 0.0081518\ttotal: 1m 34s\tremaining: 8.12s\n",
            "921:\tlearn: 0.0081515\ttotal: 1m 34s\tremaining: 8.01s\n",
            "922:\tlearn: 0.0081513\ttotal: 1m 34s\tremaining: 7.91s\n",
            "923:\tlearn: 0.0081513\ttotal: 1m 34s\tremaining: 7.81s\n",
            "924:\tlearn: 0.0081513\ttotal: 1m 35s\tremaining: 7.71s\n",
            "925:\tlearn: 0.0081511\ttotal: 1m 35s\tremaining: 7.6s\n",
            "926:\tlearn: 0.0081510\ttotal: 1m 35s\tremaining: 7.5s\n",
            "927:\tlearn: 0.0081510\ttotal: 1m 35s\tremaining: 7.4s\n",
            "928:\tlearn: 0.0081509\ttotal: 1m 35s\tremaining: 7.29s\n",
            "929:\tlearn: 0.0081508\ttotal: 1m 35s\tremaining: 7.19s\n",
            "930:\tlearn: 0.0081506\ttotal: 1m 35s\tremaining: 7.09s\n",
            "931:\tlearn: 0.0081498\ttotal: 1m 35s\tremaining: 6.99s\n",
            "932:\tlearn: 0.0081489\ttotal: 1m 35s\tremaining: 6.88s\n",
            "933:\tlearn: 0.0081392\ttotal: 1m 35s\tremaining: 6.78s\n",
            "934:\tlearn: 0.0081392\ttotal: 1m 36s\tremaining: 6.68s\n",
            "935:\tlearn: 0.0081392\ttotal: 1m 36s\tremaining: 6.58s\n",
            "936:\tlearn: 0.0081278\ttotal: 1m 36s\tremaining: 6.47s\n",
            "937:\tlearn: 0.0081276\ttotal: 1m 36s\tremaining: 6.37s\n",
            "938:\tlearn: 0.0081250\ttotal: 1m 36s\tremaining: 6.27s\n",
            "939:\tlearn: 0.0081244\ttotal: 1m 36s\tremaining: 6.17s\n",
            "940:\tlearn: 0.0081048\ttotal: 1m 36s\tremaining: 6.06s\n",
            "941:\tlearn: 0.0081046\ttotal: 1m 36s\tremaining: 5.96s\n",
            "942:\tlearn: 0.0080986\ttotal: 1m 36s\tremaining: 5.86s\n",
            "943:\tlearn: 0.0080986\ttotal: 1m 37s\tremaining: 5.76s\n",
            "944:\tlearn: 0.0080985\ttotal: 1m 37s\tremaining: 5.65s\n",
            "945:\tlearn: 0.0080985\ttotal: 1m 37s\tremaining: 5.55s\n",
            "946:\tlearn: 0.0080983\ttotal: 1m 37s\tremaining: 5.45s\n",
            "947:\tlearn: 0.0080983\ttotal: 1m 37s\tremaining: 5.35s\n",
            "948:\tlearn: 0.0080978\ttotal: 1m 37s\tremaining: 5.24s\n",
            "949:\tlearn: 0.0080978\ttotal: 1m 37s\tremaining: 5.14s\n",
            "950:\tlearn: 0.0080975\ttotal: 1m 37s\tremaining: 5.04s\n",
            "951:\tlearn: 0.0080972\ttotal: 1m 37s\tremaining: 4.93s\n",
            "952:\tlearn: 0.0080972\ttotal: 1m 37s\tremaining: 4.83s\n",
            "953:\tlearn: 0.0080843\ttotal: 1m 38s\tremaining: 4.73s\n",
            "954:\tlearn: 0.0080833\ttotal: 1m 38s\tremaining: 4.63s\n",
            "955:\tlearn: 0.0080823\ttotal: 1m 38s\tremaining: 4.52s\n",
            "956:\tlearn: 0.0080821\ttotal: 1m 38s\tremaining: 4.42s\n",
            "957:\tlearn: 0.0080681\ttotal: 1m 38s\tremaining: 4.32s\n",
            "958:\tlearn: 0.0080678\ttotal: 1m 38s\tremaining: 4.22s\n",
            "959:\tlearn: 0.0080605\ttotal: 1m 38s\tremaining: 4.11s\n",
            "960:\tlearn: 0.0080604\ttotal: 1m 38s\tremaining: 4.01s\n",
            "961:\tlearn: 0.0080604\ttotal: 1m 38s\tremaining: 3.91s\n",
            "962:\tlearn: 0.0080601\ttotal: 1m 39s\tremaining: 3.8s\n",
            "963:\tlearn: 0.0080600\ttotal: 1m 39s\tremaining: 3.7s\n",
            "964:\tlearn: 0.0080429\ttotal: 1m 39s\tremaining: 3.6s\n",
            "965:\tlearn: 0.0080429\ttotal: 1m 39s\tremaining: 3.5s\n",
            "966:\tlearn: 0.0080428\ttotal: 1m 39s\tremaining: 3.39s\n",
            "967:\tlearn: 0.0080428\ttotal: 1m 39s\tremaining: 3.29s\n",
            "968:\tlearn: 0.0080378\ttotal: 1m 39s\tremaining: 3.19s\n",
            "969:\tlearn: 0.0080378\ttotal: 1m 39s\tremaining: 3.08s\n",
            "970:\tlearn: 0.0080377\ttotal: 1m 39s\tremaining: 2.98s\n",
            "971:\tlearn: 0.0080342\ttotal: 1m 39s\tremaining: 2.88s\n",
            "972:\tlearn: 0.0080340\ttotal: 1m 40s\tremaining: 2.78s\n",
            "973:\tlearn: 0.0080336\ttotal: 1m 40s\tremaining: 2.67s\n",
            "974:\tlearn: 0.0080336\ttotal: 1m 40s\tremaining: 2.57s\n",
            "975:\tlearn: 0.0080333\ttotal: 1m 40s\tremaining: 2.47s\n",
            "976:\tlearn: 0.0080333\ttotal: 1m 40s\tremaining: 2.37s\n",
            "977:\tlearn: 0.0080327\ttotal: 1m 40s\tremaining: 2.26s\n",
            "978:\tlearn: 0.0080322\ttotal: 1m 40s\tremaining: 2.16s\n",
            "979:\tlearn: 0.0080320\ttotal: 1m 40s\tremaining: 2.06s\n",
            "980:\tlearn: 0.0080316\ttotal: 1m 40s\tremaining: 1.95s\n",
            "981:\tlearn: 0.0080315\ttotal: 1m 41s\tremaining: 1.85s\n",
            "982:\tlearn: 0.0080313\ttotal: 1m 41s\tremaining: 1.75s\n",
            "983:\tlearn: 0.0080312\ttotal: 1m 41s\tremaining: 1.65s\n",
            "984:\tlearn: 0.0079732\ttotal: 1m 41s\tremaining: 1.54s\n",
            "985:\tlearn: 0.0079732\ttotal: 1m 41s\tremaining: 1.44s\n",
            "986:\tlearn: 0.0079731\ttotal: 1m 41s\tremaining: 1.34s\n",
            "987:\tlearn: 0.0079513\ttotal: 1m 41s\tremaining: 1.23s\n",
            "988:\tlearn: 0.0079513\ttotal: 1m 41s\tremaining: 1.13s\n",
            "989:\tlearn: 0.0079512\ttotal: 1m 41s\tremaining: 1.03s\n",
            "990:\tlearn: 0.0079510\ttotal: 1m 42s\tremaining: 926ms\n",
            "991:\tlearn: 0.0079510\ttotal: 1m 42s\tremaining: 823ms\n",
            "992:\tlearn: 0.0079509\ttotal: 1m 42s\tremaining: 720ms\n",
            "993:\tlearn: 0.0079508\ttotal: 1m 42s\tremaining: 618ms\n",
            "994:\tlearn: 0.0079303\ttotal: 1m 42s\tremaining: 515ms\n",
            "995:\tlearn: 0.0079303\ttotal: 1m 42s\tremaining: 412ms\n",
            "996:\tlearn: 0.0079303\ttotal: 1m 42s\tremaining: 309ms\n",
            "997:\tlearn: 0.0079303\ttotal: 1m 42s\tremaining: 206ms\n",
            "998:\tlearn: 0.0079302\ttotal: 1m 42s\tremaining: 103ms\n",
            "999:\tlearn: 0.0079294\ttotal: 1m 42s\tremaining: 0us\n"
          ]
        },
        {
          "output_type": "execute_result",
          "data": {
            "text/plain": [
              "<catboost.core.CatBoostClassifier at 0x7f527554f810>"
            ]
          },
          "metadata": {},
          "execution_count": 53
        }
      ]
    },
    {
      "cell_type": "code",
      "metadata": {
        "colab": {
          "base_uri": "https://localhost:8080/"
        },
        "id": "EnzwzMKi5i6L",
        "outputId": "9903df43-71c4-44f9-9681-f1482ad6da51"
      },
      "source": [
        "CAT_Y_PRED = CAT_MODEL.predict(X_validataion)\n",
        "print(CAT_Y_PRED)"
      ],
      "execution_count": 54,
      "outputs": [
        {
          "output_type": "stream",
          "name": "stdout",
          "text": [
            "[0 1 0 ... 0 1 1]\n"
          ]
        }
      ]
    },
    {
      "cell_type": "code",
      "metadata": {
        "id": "n7JeHRFN5p4i"
      },
      "source": [
        "Conf_Mat = conf(y_validation,CAT_Y_PRED)"
      ],
      "execution_count": 55,
      "outputs": []
    },
    {
      "cell_type": "code",
      "metadata": {
        "colab": {
          "base_uri": "https://localhost:8080/",
          "height": 284
        },
        "id": "GisRrerv50rC",
        "outputId": "66c6e734-8839-470f-ddd7-3eee6005be3a"
      },
      "source": [
        "toggle = True\n",
        "colors = 'Blues'\n",
        "SEA.heatmap(Conf_Mat/NUMP.sum(Conf_Mat), annot=True, \n",
        "            fmt='.2%', cmap=colors)"
      ],
      "execution_count": 56,
      "outputs": [
        {
          "output_type": "execute_result",
          "data": {
            "text/plain": [
              "<matplotlib.axes._subplots.AxesSubplot at 0x7f52d7490b10>"
            ]
          },
          "metadata": {},
          "execution_count": 56
        },
        {
          "output_type": "display_data",
          "data": {
            "image/png": "[encoded data removed]",
            "text/plain": [
              "<Figure size 432x288 with 2 Axes>"
            ]
          },
          "metadata": {
            "needs_background": "light"
          }
        }
      ]
    },
    {
      "cell_type": "code",
      "metadata": {
        "colab": {
          "base_uri": "https://localhost:8080/"
        },
        "id": "QnZ8DY_E58dC",
        "outputId": "097e6daa-dbd7-4cfc-eed3-6f65c84c3e9d"
      },
      "source": [
        "CAT_ACC = ACC(y_validation, CAT_Y_PRED)\n",
        "print(CAT_ACC)"
      ],
      "execution_count": 57,
      "outputs": [
        {
          "output_type": "stream",
          "name": "stdout",
          "text": [
            "0.8266666666666667\n"
          ]
        }
      ]
    },
    {
      "cell_type": "code",
      "metadata": {
        "colab": {
          "base_uri": "https://localhost:8080/"
        },
        "id": "_VLXAuCbAHG8",
        "outputId": "99b342f7-7476-444e-f8bf-9a4bd1594d47"
      },
      "source": [
        "CAT_F1 = F1(y_validation,CAT_Y_PRED)\n",
        "print(CAT_F1)"
      ],
      "execution_count": 58,
      "outputs": [
        {
          "output_type": "stream",
          "name": "stdout",
          "text": [
            "0.8315189217210989\n"
          ]
        }
      ]
    },
    {
      "cell_type": "code",
      "metadata": {
        "colab": {
          "base_uri": "https://localhost:8080/"
        },
        "id": "HEeAnDBbAPFu",
        "outputId": "f4d84615-a455-4e91-b946-e703c21eaa7d"
      },
      "source": [
        "CAT_PScore = PScore(y_validation,CAT_Y_PRED)\n",
        "print(CAT_PScore)"
      ],
      "execution_count": 59,
      "outputs": [
        {
          "output_type": "stream",
          "name": "stdout",
          "text": [
            "0.820040899795501\n"
          ]
        }
      ]
    },
    {
      "cell_type": "markdown",
      "metadata": {
        "id": "1SMkoWbCCL-N"
      },
      "source": [
        "### Accuracy Score"
      ]
    },
    {
      "cell_type": "code",
      "metadata": {
        "id": "mn4STV-qIQDu"
      },
      "source": [
        "accuracy_data = [['NB' , GNB_ACC*100], ['SVC', SVC_ACC*100],['DTC',DTR_ACC*100],['RFC',RFC_ACC*100],['CAT',CAT_ACC*100]]"
      ],
      "execution_count": 60,
      "outputs": []
    },
    {
      "cell_type": "code",
      "metadata": {
        "colab": {
          "base_uri": "https://localhost:8080/",
          "height": 206
        },
        "id": "QCgYrsZ3JIKl",
        "outputId": "d7b77ede-ba67-4e28-8c63-c1f1ab121a22"
      },
      "source": [
        "df = PAND.DataFrame(accuracy_data, columns = ['Models', 'Accuracy'])\n",
        "df"
      ],
      "execution_count": 61,
      "outputs": [
        {
          "output_type": "execute_result",
          "data": {
            "text/html": [
              "<div>\n",
              "<style scoped>\n",
              "    .dataframe tbody tr th:only-of-type {\n",
              "        vertical-align: middle;\n",
              "    }\n",
              "\n",
              "    .dataframe tbody tr th {\n",
              "        vertical-align: top;\n",
              "    }\n",
              "\n",
              "    .dataframe thead th {\n",
              "        text-align: right;\n",
              "    }\n",
              "</style>\n",
              "<table border=\"1\" class=\"dataframe\">\n",
              "  <thead>\n",
              "    <tr style=\"text-align: right;\">\n",
              "      <th></th>\n",
              "      <th>Models</th>\n",
              "      <th>Accuracy</th>\n",
              "    </tr>\n",
              "  </thead>\n",
              "  <tbody>\n",
              "    <tr>\n",
              "      <th>0</th>\n",
              "      <td>NB</td>\n",
              "      <td>72.533333</td>\n",
              "    </tr>\n",
              "    <tr>\n",
              "      <th>1</th>\n",
              "      <td>SVC</td>\n",
              "      <td>83.626667</td>\n",
              "    </tr>\n",
              "    <tr>\n",
              "      <th>2</th>\n",
              "      <td>DTC</td>\n",
              "      <td>73.440000</td>\n",
              "    </tr>\n",
              "    <tr>\n",
              "      <th>3</th>\n",
              "      <td>RFC</td>\n",
              "      <td>83.040000</td>\n",
              "    </tr>\n",
              "    <tr>\n",
              "      <th>4</th>\n",
              "      <td>CAT</td>\n",
              "      <td>82.666667</td>\n",
              "    </tr>\n",
              "  </tbody>\n",
              "</table>\n",
              "</div>"
            ],
            "text/plain": [
              "  Models   Accuracy\n",
              "0     NB  72.533333\n",
              "1    SVC  83.626667\n",
              "2    DTC  73.440000\n",
              "3    RFC  83.040000\n",
              "4    CAT  82.666667"
            ]
          },
          "metadata": {},
          "execution_count": 61
        }
      ]
    },
    {
      "cell_type": "code",
      "metadata": {
        "colab": {
          "base_uri": "https://localhost:8080/",
          "height": 460
        },
        "id": "pbuqQBI8JXY7",
        "outputId": "2c6fc64a-30cf-4308-dfcd-1f926f293836"
      },
      "source": [
        "size = (7,5)\n",
        "pixels = 100\n",
        "fig, axes = PLOT.subplots(figsize=size, dpi=pixels)\n",
        "PLOT.bar(df.Models, height=df.Accuracy)\n",
        "PLOT.title('Barplot of Accuracies of all the models');"
      ],
      "execution_count": 62,
      "outputs": [
        {
          "output_type": "display_data",
          "data": {
            "image/png": "[encoded data removed]",
            "text/plain": [
              "<Figure size 700x500 with 1 Axes>"
            ]
          },
          "metadata": {
            "needs_background": "light"
          }
        }
      ]
    },
    {
      "cell_type": "markdown",
      "metadata": {
        "id": "KD3lZIkWCieE"
      },
      "source": [
        "### F1 Score"
      ]
    },
    {
      "cell_type": "code",
      "metadata": {
        "id": "l4TShK0bCfUo"
      },
      "source": [
        "f1_score_data = [['NB' , GNB_F1*100], ['SVC', SVC_F1*100],['DTC',DTR_F1*100],['RFC',RFC_F1*100],['CAT',CAT_F1*100]]"
      ],
      "execution_count": 63,
      "outputs": []
    },
    {
      "cell_type": "code",
      "metadata": {
        "colab": {
          "base_uri": "https://localhost:8080/",
          "height": 206
        },
        "id": "0CQu-jUHC6D1",
        "outputId": "3d3aaf38-c13a-4377-d33c-bc759b3d5178"
      },
      "source": [
        "df = PAND.DataFrame(f1_score_data, columns = ['Models', 'F1Score'])\n",
        "df"
      ],
      "execution_count": 64,
      "outputs": [
        {
          "output_type": "execute_result",
          "data": {
            "text/html": [
              "<div>\n",
              "<style scoped>\n",
              "    .dataframe tbody tr th:only-of-type {\n",
              "        vertical-align: middle;\n",
              "    }\n",
              "\n",
              "    .dataframe tbody tr th {\n",
              "        vertical-align: top;\n",
              "    }\n",
              "\n",
              "    .dataframe thead th {\n",
              "        text-align: right;\n",
              "    }\n",
              "</style>\n",
              "<table border=\"1\" class=\"dataframe\">\n",
              "  <thead>\n",
              "    <tr style=\"text-align: right;\">\n",
              "      <th></th>\n",
              "      <th>Models</th>\n",
              "      <th>F1Score</th>\n",
              "    </tr>\n",
              "  </thead>\n",
              "  <tbody>\n",
              "    <tr>\n",
              "      <th>0</th>\n",
              "      <td>NB</td>\n",
              "      <td>74.159558</td>\n",
              "    </tr>\n",
              "    <tr>\n",
              "      <th>1</th>\n",
              "      <td>SVC</td>\n",
              "      <td>83.678894</td>\n",
              "    </tr>\n",
              "    <tr>\n",
              "      <th>2</th>\n",
              "      <td>DTC</td>\n",
              "      <td>74.170124</td>\n",
              "    </tr>\n",
              "    <tr>\n",
              "      <th>3</th>\n",
              "      <td>RFC</td>\n",
              "      <td>83.420229</td>\n",
              "    </tr>\n",
              "    <tr>\n",
              "      <th>4</th>\n",
              "      <td>CAT</td>\n",
              "      <td>83.151892</td>\n",
              "    </tr>\n",
              "  </tbody>\n",
              "</table>\n",
              "</div>"
            ],
            "text/plain": [
              "  Models    F1Score\n",
              "0     NB  74.159558\n",
              "1    SVC  83.678894\n",
              "2    DTC  74.170124\n",
              "3    RFC  83.420229\n",
              "4    CAT  83.151892"
            ]
          },
          "metadata": {},
          "execution_count": 64
        }
      ]
    },
    {
      "cell_type": "code",
      "metadata": {
        "colab": {
          "base_uri": "https://localhost:8080/",
          "height": 460
        },
        "id": "wMVNEviKDaPF",
        "outputId": "3d120bbc-63ac-465c-d65c-6286a14abfe3"
      },
      "source": [
        "size = (7,5)\n",
        "pixels = 100\n",
        "fig, axes = PLOT.subplots(figsize=size, dpi=pixels)\n",
        "PLOT.bar(df.Models, height=df.F1Score)\n",
        "PLOT.title('Barplot of F1 Scores of all the models');"
      ],
      "execution_count": 65,
      "outputs": [
        {
          "output_type": "display_data",
          "data": {
            "image/png": "[encoded data removed]",
            "text/plain": [
              "<Figure size 700x500 with 1 Axes>"
            ]
          },
          "metadata": {
            "needs_background": "light"
          }
        }
      ]
    },
    {
      "cell_type": "markdown",
      "metadata": {
        "id": "S9x5EVI6Du4-"
      },
      "source": [
        "### Precision Score"
      ]
    },
    {
      "cell_type": "code",
      "metadata": {
        "id": "xFSxipF9DS-o"
      },
      "source": [
        "precison_score_data = [['NB' , GNB_PScore*100], ['SVC', SVC_PScore*100],['DTC',DTR_PScore*100],['RFC',RFC_PScore*100],['CAT',CAT_PScore*100]]"
      ],
      "execution_count": 66,
      "outputs": []
    },
    {
      "cell_type": "code",
      "metadata": {
        "colab": {
          "base_uri": "https://localhost:8080/",
          "height": 206
        },
        "id": "DCx-snrHEGGU",
        "outputId": "8599e8b8-bd98-4919-a9a7-49d7ba743ee9"
      },
      "source": [
        "df = PAND.DataFrame(precison_score_data, columns = ['Models', 'PrecisionScore'])\n",
        "df"
      ],
      "execution_count": 67,
      "outputs": [
        {
          "output_type": "execute_result",
          "data": {
            "text/html": [
              "<div>\n",
              "<style scoped>\n",
              "    .dataframe tbody tr th:only-of-type {\n",
              "        vertical-align: middle;\n",
              "    }\n",
              "\n",
              "    .dataframe tbody tr th {\n",
              "        vertical-align: top;\n",
              "    }\n",
              "\n",
              "    .dataframe thead th {\n",
              "        text-align: right;\n",
              "    }\n",
              "</style>\n",
              "<table border=\"1\" class=\"dataframe\">\n",
              "  <thead>\n",
              "    <tr style=\"text-align: right;\">\n",
              "      <th></th>\n",
              "      <th>Models</th>\n",
              "      <th>PrecisionScore</th>\n",
              "    </tr>\n",
              "  </thead>\n",
              "  <tbody>\n",
              "    <tr>\n",
              "      <th>0</th>\n",
              "      <td>NB</td>\n",
              "      <td>70.921305</td>\n",
              "    </tr>\n",
              "    <tr>\n",
              "      <th>1</th>\n",
              "      <td>SVC</td>\n",
              "      <td>84.623656</td>\n",
              "    </tr>\n",
              "    <tr>\n",
              "      <th>2</th>\n",
              "      <td>DTC</td>\n",
              "      <td>73.183214</td>\n",
              "    </tr>\n",
              "    <tr>\n",
              "      <th>3</th>\n",
              "      <td>RFC</td>\n",
              "      <td>82.730093</td>\n",
              "    </tr>\n",
              "    <tr>\n",
              "      <th>4</th>\n",
              "      <td>CAT</td>\n",
              "      <td>82.004090</td>\n",
              "    </tr>\n",
              "  </tbody>\n",
              "</table>\n",
              "</div>"
            ],
            "text/plain": [
              "  Models  PrecisionScore\n",
              "0     NB       70.921305\n",
              "1    SVC       84.623656\n",
              "2    DTC       73.183214\n",
              "3    RFC       82.730093\n",
              "4    CAT       82.004090"
            ]
          },
          "metadata": {},
          "execution_count": 67
        }
      ]
    },
    {
      "cell_type": "code",
      "metadata": {
        "colab": {
          "base_uri": "https://localhost:8080/",
          "height": 460
        },
        "id": "1H_691WPE0OU",
        "outputId": "44f774ab-cc9b-4a2a-ec8e-04f18cb67226"
      },
      "source": [
        "size = (7,5)\n",
        "pixels = 100\n",
        "fig, axes = PLOT.subplots(figsize=size, dpi=pixels)\n",
        "PLOT.bar(df.Models, height=df.PrecisionScore)\n",
        "PLOT.title('Barplot of Precision Scores of all the models');"
      ],
      "execution_count": 68,
      "outputs": [
        {
          "output_type": "display_data",
          "data": {
            "image/png": "[encoded data removed]",
            "text/plain": [
              "<Figure size 700x500 with 1 Axes>"
            ]
          },
          "metadata": {
            "needs_background": "light"
          }
        }
      ]
    }
  ]
}